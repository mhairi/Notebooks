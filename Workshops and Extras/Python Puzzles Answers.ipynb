{
 "cells": [
  {
   "cell_type": "markdown",
   "metadata": {},
   "source": [
    "If we list all the natural numbers below 10 that are multiples of 3 or 5, we get 3, 5, 6 and 9. The sum of these multiples is 23.\n",
    "\n",
    "Find the sum of all the multiples of 3 or 5 below 1000.\n",
    "\n",
    "From Project Euler (Problem 1)"
   ]
  },
  {
   "cell_type": "code",
   "execution_count": 4,
   "metadata": {},
   "outputs": [
    {
     "data": {
      "text/plain": [
       "233168"
      ]
     },
     "execution_count": 4,
     "metadata": {},
     "output_type": "execute_result"
    }
   ],
   "source": [
    "sum = 0\n",
    "for number in range(1000):\n",
    "    \n",
    "    if number % 3 == 0 or number % 5 == 0:\n",
    "        sum = sum + number\n",
    "    \n",
    "sum"
   ]
  },
  {
   "cell_type": "markdown",
   "metadata": {},
   "source": [
    "Write a function that accepts a list of strings and returns a dictionary where the keys are the words from the list and the values are the number of times that word appears in the list.\n"
   ]
  },
  {
   "cell_type": "code",
   "execution_count": 5,
   "metadata": {},
   "outputs": [
    {
     "data": {
      "text/plain": [
       "{'hello': 1, 'yes': 3, 'no': 2}"
      ]
     },
     "execution_count": 5,
     "metadata": {},
     "output_type": "execute_result"
    }
   ],
   "source": [
    "example_mylist = ['hello', 'yes', 'yes', 'no', 'no', 'yes']\n",
    "\n",
    "def frequencies(mylist):\n",
    "    frequencies = {}\n",
    "    \n",
    "    for item in mylist:\n",
    "        try:\n",
    "            frequencies[item] = frequencies[item] + 1\n",
    "        except KeyError:\n",
    "            frequencies[item] = 1\n",
    "        \n",
    "    return(frequencies)\n",
    "\n",
    "frequencies(example_mylist)"
   ]
  },
  {
   "cell_type": "markdown",
   "metadata": {},
   "source": [
    "You are repatedly send a message, but there is errors in the message. Figure out which character is most frequent for each position. For example, suppose you had recorded the following messages:\n",
    "\n",
    "eedadn\n",
    "drvtee\n",
    "eandsr\n",
    "raavrd\n",
    "atevrs\n",
    "tsrnev\n",
    "sdttsa\n",
    "rasrtv\n",
    "nssdts\n",
    "ntnada\n",
    "svetve\n",
    "tesnvt\n",
    "vntsnd\n",
    "vrdear\n",
    "dvrsen\n",
    "enarar\n",
    "\n",
    "The most common character in the first column is e; in the second, a; in the third, s, and so on. Combining these characters returns the error-corrected message, easter.\n",
    "\n",
    "Open the file 'puzzle3input.txt' and find the error corrected message.\n",
    "\n",
    "From Advent of Code (2016, day 6)"
   ]
  },
  {
   "cell_type": "code",
   "execution_count": 6,
   "metadata": {},
   "outputs": [],
   "source": [
    "# Useful for testing\n",
    "messages = \\\n",
    "['eedadn',\n",
    "'drvtee',\n",
    "'eandsr',\n",
    "'raavrd',\n",
    "'atevrs',\n",
    "'tsrnev',\n",
    "'sdttsa',\n",
    "'rasrtv',\n",
    "'nssdts',\n",
    "'ntnada',\n",
    "'svetve',\n",
    "'tesnvt',\n",
    "'vntsnd',\n",
    "'vrdear',\n",
    "'dvrsen',\n",
    "'enarar']"
   ]
  },
  {
   "cell_type": "code",
   "execution_count": 8,
   "metadata": {},
   "outputs": [],
   "source": [
    "messages_file = open('puzzle3input.txt','r')\n",
    "messages = messages_file.readlines()\n",
    "messages_file.close()\n",
    "\n",
    "for i in range(len(messages)):\n",
    "    messages[i] = messages[i].strip()"
   ]
  },
  {
   "cell_type": "code",
   "execution_count": 9,
   "metadata": {},
   "outputs": [
    {
     "name": "stdout",
     "output_type": "stream",
     "text": [
      "q\n",
      "q\n",
      "q\n",
      "l\n",
      "u\n",
      "i\n",
      "g\n",
      "u\n"
     ]
    }
   ],
   "source": [
    "message_length = len(messages[0])\n",
    "\n",
    "for letter in range(message_length): \n",
    "    \n",
    "    letter_list = []\n",
    "    for message in messages:\n",
    "        letter_list.append(message[letter])\n",
    "        \n",
    "    frequency_dict = frequencies(letter_list)\n",
    "    \n",
    "    print(max(frequency_dict, key = frequency_dict.get))"
   ]
  }
 ],
 "metadata": {
  "kernelspec": {
   "display_name": "Python 3",
   "language": "python",
   "name": "python3"
  },
  "language_info": {
   "codemirror_mode": {
    "name": "ipython",
    "version": 3
   },
   "file_extension": ".py",
   "mimetype": "text/x-python",
   "name": "python",
   "nbconvert_exporter": "python",
   "pygments_lexer": "ipython3",
   "version": "3.7.1"
  }
 },
 "nbformat": 4,
 "nbformat_minor": 2
}
