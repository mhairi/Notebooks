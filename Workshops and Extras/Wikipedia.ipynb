{
 "cells": [
  {
   "cell_type": "markdown",
   "metadata": {},
   "source": [
    "# API"
   ]
  },
  {
   "cell_type": "code",
   "execution_count": 9,
   "metadata": {},
   "outputs": [],
   "source": [
    "import wikipedia\n",
    "import time\n",
    "from pymongo import MongoClient"
   ]
  },
  {
   "cell_type": "code",
   "execution_count": 11,
   "metadata": {},
   "outputs": [],
   "source": [
    "client = MongoClient()\n",
    "db = client.workshop\n",
    "articles = wikipedia.search('Sea')"
   ]
  },
  {
   "cell_type": "code",
   "execution_count": 13,
   "metadata": {},
   "outputs": [],
   "source": [
    "for article in articles:\n",
    "    \n",
    "    try:\n",
    "        result = wikipedia.page(article)\n",
    "\n",
    "        db.pages.insert_one({\n",
    "            'title': result.title,\n",
    "            'url'  : result.url,\n",
    "            'text' : result.content\n",
    "        })\n",
    "\n",
    "        time.sleep(0.5)\n",
    "    except wikipedia.exceptions.DisambiguationError:\n",
    "        pass"
   ]
  },
  {
   "cell_type": "markdown",
   "metadata": {},
   "source": [
    "# Web Scraping"
   ]
  },
  {
   "cell_type": "code",
   "execution_count": 16,
   "metadata": {},
   "outputs": [],
   "source": [
    "from bs4 import BeautifulSoup\n",
    "import requests"
   ]
  },
  {
   "cell_type": "code",
   "execution_count": 15,
   "metadata": {},
   "outputs": [],
   "source": [
    "urls = ['https://en.wikipedia.org/wiki/Sea', 'https://en.wikipedia.org/wiki/Oceanography', 'https://en.wikipedia.org/wiki/Sea_(astronomy)']"
   ]
  },
  {
   "cell_type": "code",
   "execution_count": 22,
   "metadata": {},
   "outputs": [],
   "source": [
    "for url in urls:\n",
    "    \n",
    "    # Scrape Page\n",
    "    \n",
    "    page = requests.get(url)\n",
    "\n",
    "    soup = BeautifulSoup(page.content, 'html.parser')\n",
    "\n",
    "    title_box = soup.find('h1', attrs={'id': 'firstHeading'})\n",
    "    title = title_box.text.strip()\n",
    "\n",
    "    content_box = soup.find('div', attrs={'id': 'mw-content-text'})\n",
    "    text = content_box.text.strip()\n",
    "    \n",
    "    # Add to database\n",
    "    \n",
    "    db.pages_scraped.insert_one({\n",
    "            'title': title,\n",
    "            'url'  : url,\n",
    "            'text' : text\n",
    "    })\n",
    "    \n",
    "    time.sleep(0.5)"
   ]
  }
 ],
 "metadata": {
  "kernelspec": {
   "display_name": "Python 3",
   "language": "python",
   "name": "python3"
  },
  "language_info": {
   "codemirror_mode": {
    "name": "ipython",
    "version": 3
   },
   "file_extension": ".py",
   "mimetype": "text/x-python",
   "name": "python",
   "nbconvert_exporter": "python",
   "pygments_lexer": "ipython3",
   "version": "3.6.8"
  }
 },
 "nbformat": 4,
 "nbformat_minor": 2
}
