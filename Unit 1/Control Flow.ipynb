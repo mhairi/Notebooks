{
 "cells": [
  {
   "cell_type": "markdown",
   "metadata": {},
   "source": [
    "*Based on <https://realpython.com/python-conditional-statements/>*\n",
    "\n",
    "You now have quite a bit of Python code under your belt. Everything you have seen so far has consisted of sequential execution, in which statements are always performed one after the next, in exactly the order specified.\n",
    "\n",
    "But the world is often more complicated than that. Frequently, a program needs to skip over some statements, execute a series of statements repetitively, or choose between alternate sets of statements to execute.\n",
    "\n",
    "That is where control structures come in. A control structure directs the order of execution of the statements in a program (referred to as the program’s control flow).\n",
    "\n",
    "Here’s what you’ll learn in this tutorial: You’ll encounter your first Python control structure, the if statement.\n",
    "\n",
    "In the real world, we commonly must evaluate information around us and then choose one course of action or another based on what we observe:\n",
    "\n",
    "If the weather is nice, then I’ll mow the lawn. (It’s implied that if the weather isn’t nice, then I won’t mow the lawn.)\n",
    "\n",
    "In a Python program, the if statement is how you perform this sort of decision-making. It allows for conditional execution of a statement or group of statements based on the value of an expression."
   ]
  },
  {
   "cell_type": "markdown",
   "metadata": {},
   "source": [
    "## Introduction to the if Statement\n",
    "We’ll start by looking at the most basic type of if statement. In its simplest form, it looks like this:\n",
    "\n",
    "```\n",
    "if *expr*:\n",
    "    *statement*\n",
    "In the form shown above:\n",
    "```\n",
    "\n",
    "*expr* is an expression evaluated in Boolean context, as discussed in the section on Logical Operators in the Operators and Expressions in Python tutorial.\n",
    "*statement* is a valid Python statement, which must be indented. (You will see why very soon.)\n",
    "If *expr* is true (evaluates to a value that is “truthy”), then *statement* is executed. If *expr* is false, then *statement* is skipped over and not executed.\n",
    "\n",
    "Note that the colon (:) following *expr* is required. Some programming languages require <expr> to be enclosed in parentheses, but Python does not.\n",
    "\n",
    "Here are several examples of this type of if statement:"
   ]
  },
  {
   "cell_type": "code",
   "execution_count": 2,
   "metadata": {},
   "outputs": [],
   "source": [
    "x = 0\n",
    "y = 5"
   ]
  },
  {
   "cell_type": "code",
   "execution_count": 3,
   "metadata": {},
   "outputs": [
    {
     "name": "stdout",
     "output_type": "stream",
     "text": [
      "yes\n"
     ]
    }
   ],
   "source": [
    "if x < y:                            # Truthy\n",
    "     print('yes')"
   ]
  },
  {
   "cell_type": "code",
   "execution_count": 4,
   "metadata": {},
   "outputs": [],
   "source": [
    "if y < x:                            # Falsy\n",
    "     print('yes')"
   ]
  },
  {
   "cell_type": "code",
   "execution_count": 5,
   "metadata": {},
   "outputs": [],
   "source": [
    "if x:                                # Falsy\n",
    "     print('yes')"
   ]
  },
  {
   "cell_type": "code",
   "execution_count": 6,
   "metadata": {},
   "outputs": [
    {
     "name": "stdout",
     "output_type": "stream",
     "text": [
      "yes\n"
     ]
    }
   ],
   "source": [
    "if y:                                # Truthy\n",
    "     print('yes')"
   ]
  },
  {
   "cell_type": "code",
   "execution_count": 7,
   "metadata": {},
   "outputs": [
    {
     "name": "stdout",
     "output_type": "stream",
     "text": [
      "yes\n"
     ]
    }
   ],
   "source": [
    "if x or y:                           # Truthy\n",
    "     print('yes')"
   ]
  },
  {
   "cell_type": "code",
   "execution_count": 8,
   "metadata": {},
   "outputs": [],
   "source": [
    "if x and y:                          # Falsy\n",
    "     print('yes')"
   ]
  },
  {
   "cell_type": "code",
   "execution_count": 9,
   "metadata": {},
   "outputs": [
    {
     "name": "stdout",
     "output_type": "stream",
     "text": [
      "yes\n"
     ]
    }
   ],
   "source": [
    "if 'aul' in 'grault':                # Truthy\n",
    "     print('yes')"
   ]
  },
  {
   "cell_type": "code",
   "execution_count": 10,
   "metadata": {},
   "outputs": [],
   "source": [
    "if 'quux' in ['foo', 'bar', 'baz']:  # Falsy\n",
    "     print('yes')"
   ]
  },
  {
   "cell_type": "markdown",
   "metadata": {},
   "source": [
    "## Blocks\n",
    "\n",
    "So far, so good.\n",
    "\n",
    "But let’s say you want to evaluate a condition and then do more than one thing if it is true:\n",
    "\n",
    "If the weather is nice, then I will:\n",
    "\n",
    "Mow the lawn\n",
    "Weed the garden\n",
    "Take the dog for a walk\n",
    "(If the weather isn’t nice, then I won’t do any of these things.)\n",
    "\n",
    "In all the examples shown above, each if *expr*: has been followed by only a single *statement*. There needs to be some way to say “If *expr* is true, do all of the following things.”\n",
    "\n",
    "In Python indentation is used to define compound statements or blocks. In a Python program, contiguous statements that are indented to the same level are considered to be part of the same block.\n",
    "\n",
    "Thus, a compound if statement in Python looks like this:\n",
    "\n",
    "```\n",
    "if *expr*:\n",
    "    *statement*\n",
    "    *statement*\n",
    "    ...\n",
    "    *statement*\n",
    "*following_statement*\n",
    "```\n",
    "\n",
    "Read though the following. Predict what will be printed out. "
   ]
  },
  {
   "cell_type": "code",
   "execution_count": 12,
   "metadata": {},
   "outputs": [
    {
     "name": "stdout",
     "output_type": "stream",
     "text": [
      "Outer condition is true\n",
      "Between inner conditions\n",
      "Inner condition 2\n",
      "End of outer condition\n",
      "After outer condition\n"
     ]
    }
   ],
   "source": [
    "if 'foo' in ['foo', 'bar', 'baz']:          \n",
    "    print('Outer condition is true')        \n",
    "\n",
    "    if 10 > 20:                             \n",
    "        print('Inner condition 1')                \n",
    "\n",
    "    print('Between inner conditions')       \n",
    "\n",
    "    if 10 < 20:                             \n",
    "        print('Inner condition 2')          \n",
    "\n",
    "    print('End of outer condition')         \n",
    "print('After outer condition')   "
   ]
  },
  {
   "cell_type": "markdown",
   "metadata": {},
   "source": [
    "## Loops"
   ]
  },
  {
   "cell_type": "markdown",
   "metadata": {},
   "source": [
    "Often you will need to do a bit of work repeatedly. The way to do this is through writing a loop. We can write a for loop in Python that goes through all the elements of a list.\n",
    "\n",
    "In Python, a for loop is started with the keywords **for** and **in**, with a colon (**:**). Everything inside the for loop must be indented. "
   ]
  },
  {
   "cell_type": "markdown",
   "metadata": {},
   "source": [
    "You can loop though elements of a list"
   ]
  },
  {
   "cell_type": "code",
   "execution_count": 16,
   "metadata": {},
   "outputs": [
    {
     "name": "stdout",
     "output_type": "stream",
     "text": [
      "a\n",
      "b\n",
      "c\n"
     ]
    }
   ],
   "source": [
    "l = ['apple', 'bannana', 'carrot']\n",
    "for item in l:\n",
    "    print(item[0])"
   ]
  },
  {
   "cell_type": "markdown",
   "metadata": {},
   "source": [
    "The range function makes a special kind of list of sequential numbers. The numbers start at 0 and go up to one less than the range you selected."
   ]
  },
  {
   "cell_type": "code",
   "execution_count": 18,
   "metadata": {},
   "outputs": [
    {
     "name": "stdout",
     "output_type": "stream",
     "text": [
      "0\n",
      "1\n",
      "4\n",
      "9\n",
      "16\n"
     ]
    }
   ],
   "source": [
    "for i in range(6):\n",
    "    print(i**2)"
   ]
  },
  {
   "cell_type": "markdown",
   "metadata": {},
   "source": [
    "Loops use blocks, just like if statements. To include multiple statements inside a loop, make sure they are all indented the same."
   ]
  },
  {
   "cell_type": "code",
   "execution_count": 19,
   "metadata": {},
   "outputs": [
    {
     "name": "stdout",
     "output_type": "stream",
     "text": [
      "4\n",
      "9\n",
      "25\n",
      "49\n"
     ]
    }
   ],
   "source": [
    "primes = [2, 3, 5, 7]\n",
    "\n",
    "for p in primes:\n",
    "    prime_squared = p**2\n",
    "    print(prime_squared)"
   ]
  },
  {
   "cell_type": "markdown",
   "metadata": {},
   "source": [
    "Loops are useful when combined with if statements."
   ]
  },
  {
   "cell_type": "code",
   "execution_count": 26,
   "metadata": {},
   "outputs": [
    {
     "name": "stdout",
     "output_type": "stream",
     "text": [
      "0\n",
      "1\n",
      "2\n",
      "3\n",
      "4\n",
      "5\n",
      "6\n",
      "7\n"
     ]
    }
   ],
   "source": [
    "for i in range(30):\n",
    "    squared = i**2\n",
    "    if squared < 50:\n",
    "        print(i)\n"
   ]
  },
  {
   "cell_type": "markdown",
   "metadata": {},
   "source": [
    "A common use of loops is to sum up values."
   ]
  },
  {
   "cell_type": "code",
   "execution_count": 23,
   "metadata": {},
   "outputs": [
    {
     "name": "stdout",
     "output_type": "stream",
     "text": [
      "151\n"
     ]
    }
   ],
   "source": [
    "numbers = [1,10,20,30,40,50]\n",
    "s = 0\n",
    "for number in numbers:\n",
    "    s = s + number\n",
    "print(s)"
   ]
  },
  {
   "cell_type": "markdown",
   "metadata": {},
   "source": [
    "1. Loop though the numbers 0 to 10, if the number is divisable by 2 print it (hint: look up the modulo function (%))\n",
    "2. Here is a list of 5 names. If the length of the name is bigger than 5 print it.\n",
    "\n",
    "['Mark',\n",
    "'Mary',\n",
    "'Maximilian',\n",
    "'Mhairi',\n",
    "'Mae']\n",
    "\n",
    "3. Sum up the squares of the numbers from 0 to 20."
   ]
  },
  {
   "cell_type": "code",
   "execution_count": 27,
   "metadata": {},
   "outputs": [
    {
     "name": "stdout",
     "output_type": "stream",
     "text": [
      "0\n",
      "2\n",
      "4\n",
      "6\n",
      "8\n",
      "10\n"
     ]
    }
   ],
   "source": [
    "# 1 \n",
    "\n",
    "for i in range(11):\n",
    "    if i % 2 == 0:\n",
    "        print(i)"
   ]
  },
  {
   "cell_type": "code",
   "execution_count": 29,
   "metadata": {},
   "outputs": [
    {
     "name": "stdout",
     "output_type": "stream",
     "text": [
      "Maximilian\n",
      "Mhairi\n"
     ]
    }
   ],
   "source": [
    "# 2\n",
    "\n",
    "names = ['Mark',\n",
    "'Mary',\n",
    "'Maximilian',\n",
    "'Mhairi',\n",
    "'Mae']\n",
    "\n",
    "for name in names:\n",
    "    if len(name) > 5:\n",
    "        print(name)"
   ]
  },
  {
   "cell_type": "code",
   "execution_count": 30,
   "metadata": {},
   "outputs": [
    {
     "data": {
      "text/plain": [
       "2870"
      ]
     },
     "execution_count": 30,
     "metadata": {},
     "output_type": "execute_result"
    }
   ],
   "source": [
    "# 3\n",
    "\n",
    "s = 0\n",
    "for i in range(21):\n",
    "    s = s + i**2\n",
    "    \n",
    "s"
   ]
  },
  {
   "cell_type": "code",
   "execution_count": null,
   "metadata": {},
   "outputs": [],
   "source": []
  }
 ],
 "metadata": {
  "kernelspec": {
   "display_name": "Python 3",
   "language": "python",
   "name": "python3"
  },
  "language_info": {
   "codemirror_mode": {
    "name": "ipython",
    "version": 3
   },
   "file_extension": ".py",
   "mimetype": "text/x-python",
   "name": "python",
   "nbconvert_exporter": "python",
   "pygments_lexer": "ipython3",
   "version": "3.7.1"
  }
 },
 "nbformat": 4,
 "nbformat_minor": 2
}
