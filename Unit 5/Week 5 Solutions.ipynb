{
 "cells": [
  {
   "cell_type": "code",
   "execution_count": null,
   "metadata": {},
   "outputs": [],
   "source": [
    "#1st\n",
    "def ex1(doc_name):\n",
    "    # Use the plaintext corpus reader to access a pre-tokenised list of words\n",
    "    # for the document specified in \"doc_name\"\n",
    "    doc_words = inaugural.words(doc_name)\n",
    "\n",
    "    # Find the total number of words in the speech\n",
    "    total_words = len(doc_words)\n",
    "\n",
    "    # Find the total number of DISTINCT words in the speech\n",
    "    total_distinct_words = len(set(w.lower() for w in doc_words))\n",
    "\n",
    "    # Return the word counts\n",
    "    return (total_words, total_distinct_words)"
   ]
  },
  {
   "cell_type": "code",
   "execution_count": null,
   "metadata": {},
   "outputs": [],
   "source": [
    "#2nd\n",
    "def ex2(doc_name):\n",
    "    doc_words = inaugural.words(doc_name)\n",
    "\n",
    "    # Construct a list that contains the word lengths for each DISTINCT word in the document\n",
    "    distinct_word_lengths = [len(w) for w in set(v.lower() for v in doc_words)]\n",
    "\n",
    "    # Find the average word type length\n",
    "    avg_word_length = float(sum(distinct_word_lengths)) / len(distinct_word_lengths)\n",
    "\n",
    "    # Return the average word type length of the document\n",
    "    return avg_word_length"
   ]
  },
  {
   "cell_type": "code",
   "execution_count": 1,
   "metadata": {},
   "outputs": [],
   "source": [
    "#3rd\n",
    "def ex3(doc_name, x):\n",
    "    doc_words = inaugural.words(doc_name)\n",
    "    \n",
    "    # Construct a frequency distribution over the lowercased words in the document\n",
    "    fd_doc_words = nltk.FreqDist(w.lower() for w in doc_words)\n",
    "\n",
    "    # Find the top x most frequently used words in the document\n",
    "    top_words = fd_doc_words.most_common(x)\n",
    "\n",
    "    # Return the top x most frequently used words\n",
    "    return top_words"
   ]
  }
 ],
 "metadata": {
  "kernelspec": {
   "display_name": "Python 3",
   "language": "python",
   "name": "python3"
  },
  "language_info": {
   "codemirror_mode": {
    "name": "ipython",
    "version": 3
   },
   "file_extension": ".py",
   "mimetype": "text/x-python",
   "name": "python",
   "nbconvert_exporter": "python",
   "pygments_lexer": "ipython3",
   "version": "3.6.8"
  }
 },
 "nbformat": 4,
 "nbformat_minor": 2
}
