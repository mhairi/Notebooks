{
 "cells": [
  {
   "cell_type": "markdown",
   "metadata": {},
   "source": [
    "### Basic List Comprehensions\n",
    "\n",
    "Before we get into the details of sentiment analysis, we're going to cover a Python concept that wasn't covered in unit one: list comprehensions. They are a somewhat advanced topic, but they make much of the code in the next units easier to read and understand.\n",
    "\n",
    "Basically, a list comprehension is a short-hand way of writing a loop in Python. They are particularly useful when you would normally write a loop which adds elements into a list. The best way to understand them is though examples. For each type of list comprehension we will show you an example with a loop, and then show you the same code done with a list comprehension.\n",
    "\n",
    "Below we have code which makes a list of all the square numbers up to 100. You need to start by creating and empty list and then filling it inside a loop with append."
   ]
  },
  {
   "cell_type": "code",
   "execution_count": 3,
   "metadata": {},
   "outputs": [
    {
     "data": {
      "text/plain": [
       "[0, 1, 4, 9, 16, 25, 36, 49, 64, 81, 100]"
      ]
     },
     "execution_count": 3,
     "metadata": {},
     "output_type": "execute_result"
    }
   ],
   "source": [
    "squares = []\n",
    "\n",
    "for i in range(11):\n",
    "    squares.append(i**2)\n",
    "    \n",
    "squares"
   ]
  },
  {
   "cell_type": "markdown",
   "metadata": {},
   "source": [
    "Now you can see the same list, created with a list comprehension. Note that you start with the code that was inside the loop and then have the same for statement afterwards. Everything is wrapped in a list"
   ]
  },
  {
   "cell_type": "code",
   "execution_count": 12,
   "metadata": {},
   "outputs": [
    {
     "data": {
      "text/plain": [
       "[0, 1, 4, 9, 16, 25, 36, 49, 64, 81, 100]"
      ]
     },
     "execution_count": 12,
     "metadata": {},
     "output_type": "execute_result"
    }
   ],
   "source": [
    "[i**2 for i in range(11)]"
   ]
  },
  {
   "cell_type": "markdown",
   "metadata": {},
   "source": [
    "### If-statements in list comprehensions"
   ]
  },
  {
   "cell_type": "markdown",
   "metadata": {},
   "source": [
    "Below is a loop that creates a list of numbers which are divisible by 8. This is more complicated that our first loop because it includes an if-statement."
   ]
  },
  {
   "cell_type": "code",
   "execution_count": 13,
   "metadata": {},
   "outputs": [
    {
     "data": {
      "text/plain": [
       "[0, 8, 16, 24, 32, 40, 48, 56, 64, 72, 80, 88, 96]"
      ]
     },
     "execution_count": 13,
     "metadata": {},
     "output_type": "execute_result"
    }
   ],
   "source": [
    "multiples_of_8 = []\n",
    "\n",
    "for i in range(101):\n",
    "    \n",
    "    if i % 8 == 0:\n",
    "        multiples_of_8.append(i)\n",
    "        \n",
    "multiples_of_8"
   ]
  },
  {
   "cell_type": "markdown",
   "metadata": {},
   "source": [
    "If you want to use an if-statement inside a list comprehension, it comes after the loop part."
   ]
  },
  {
   "cell_type": "code",
   "execution_count": 11,
   "metadata": {},
   "outputs": [
    {
     "data": {
      "text/plain": [
       "[0, 8, 16, 24, 32, 40, 48, 56, 64, 72, 80, 88, 96]"
      ]
     },
     "execution_count": 11,
     "metadata": {},
     "output_type": "execute_result"
    }
   ],
   "source": [
    "[i for i in range(101) if i % 8 == 0]"
   ]
  },
  {
   "cell_type": "markdown",
   "metadata": {},
   "source": [
    "### Nested list comprehensions\n",
    "\n",
    "Below we have code that combines 'Hello' or 'Goodbye' with a name and adds it to a list. It does this though a nested loop: we start by looping through the first word and then we loop through all the names. This gives us every combination of first word and name."
   ]
  },
  {
   "cell_type": "code",
   "execution_count": 18,
   "metadata": {},
   "outputs": [
    {
     "data": {
      "text/plain": [
       "['Hello Chris',\n",
       " 'Hello Mhairi',\n",
       " 'Hello Roseanne',\n",
       " 'Goodbye Chris',\n",
       " 'Goodbye Mhairi',\n",
       " 'Goodbye Roseanne']"
      ]
     },
     "execution_count": 18,
     "metadata": {},
     "output_type": "execute_result"
    }
   ],
   "source": [
    "greetings = []\n",
    "\n",
    "for start in ['Hello', 'Goodbye']:\n",
    "    for name in ['Chris', 'Mhairi', 'Roseanne']:\n",
    "        \n",
    "        greeting = start + ' ' + name\n",
    "        greetings.append(greeting)\n",
    "\n",
    "greetings"
   ]
  },
  {
   "cell_type": "markdown",
   "metadata": {},
   "source": [
    "This can be done much more compactly with a list comprehension. If you have one loop after the other, they will nest."
   ]
  },
  {
   "cell_type": "code",
   "execution_count": 17,
   "metadata": {},
   "outputs": [
    {
     "data": {
      "text/plain": [
       "['Hello Chris',\n",
       " 'Hello Mhairi',\n",
       " 'Hello Roseanne',\n",
       " 'Goodbye Chris',\n",
       " 'Goodbye Mhairi',\n",
       " 'Goodbye Roseanne']"
      ]
     },
     "execution_count": 17,
     "metadata": {},
     "output_type": "execute_result"
    }
   ],
   "source": [
    "[start + ' ' + name for start in ['Hello', 'Goodbye'] for name in ['Chris', 'Mhairi', 'Roseanne']]"
   ]
  },
  {
   "cell_type": "markdown",
   "metadata": {},
   "source": [
    "### Dictionary comprehensions"
   ]
  },
  {
   "cell_type": "markdown",
   "metadata": {},
   "source": [
    "As well as list comprehensions, you can also write dictionay comprehensions. These work the same way and can use if statements and nested loops. The only difference is that you enclose everything in curly brackets instead of square brackets. \n",
    "\n",
    "Below is an example of creating a dictionary where the keys are numbers, and the values are the the ordinal number description of the key."
   ]
  },
  {
   "cell_type": "code",
   "execution_count": 21,
   "metadata": {},
   "outputs": [
    {
     "data": {
      "text/plain": [
       "{4: '4th', 5: '5th', 6: '6th', 7: '7th', 8: '8th', 9: '9th', 10: '10th'}"
      ]
     },
     "execution_count": 21,
     "metadata": {},
     "output_type": "execute_result"
    }
   ],
   "source": [
    "ordinal_dict = {}\n",
    "\n",
    "for i in range(4, 11):\n",
    "    ordinal_dict[i] = str(i) + 'th'\n",
    "\n",
    "ordinal_dict"
   ]
  },
  {
   "cell_type": "markdown",
   "metadata": {},
   "source": [
    "Below is an example of the same dictionary, made using a dictionary comprehension."
   ]
  },
  {
   "cell_type": "code",
   "execution_count": 22,
   "metadata": {},
   "outputs": [
    {
     "data": {
      "text/plain": [
       "{4: '4th', 5: '5th', 6: '6th', 7: '7th', 8: '8th', 9: '9th', 10: '10th'}"
      ]
     },
     "execution_count": 22,
     "metadata": {},
     "output_type": "execute_result"
    }
   ],
   "source": [
    "{i:str(i) + 'th' for i in range(4, 11)}"
   ]
  },
  {
   "cell_type": "markdown",
   "metadata": {},
   "source": [
    "Excercise\n",
    "\n",
    "Write the following loops as a list comprehensions\n",
    "\n",
    "1."
   ]
  },
  {
   "cell_type": "code",
   "execution_count": 32,
   "metadata": {},
   "outputs": [],
   "source": [
    "primes = []\n",
    "for i in range(2, 100):\n",
    "    if i % 2 != 0 and i % 3 != 0 and i % 5 != 0 and i % 7 !=0 and i % 11 != 0:\n",
    "        primes.append(i)"
   ]
  },
  {
   "cell_type": "code",
   "execution_count": 34,
   "metadata": {},
   "outputs": [
    {
     "data": {
      "text/plain": [
       "[13,\n",
       " 17,\n",
       " 19,\n",
       " 23,\n",
       " 29,\n",
       " 31,\n",
       " 37,\n",
       " 41,\n",
       " 43,\n",
       " 47,\n",
       " 53,\n",
       " 59,\n",
       " 61,\n",
       " 67,\n",
       " 71,\n",
       " 73,\n",
       " 79,\n",
       " 83,\n",
       " 89,\n",
       " 97]"
      ]
     },
     "execution_count": 34,
     "metadata": {},
     "output_type": "execute_result"
    }
   ],
   "source": [
    "[i for i in range(2, 100) if i % 2 != 0 and i % 3 != 0 and i % 5 != 0 and i % 7 !=0 and i % 11 != 0]"
   ]
  },
  {
   "cell_type": "markdown",
   "metadata": {},
   "source": [
    "2."
   ]
  },
  {
   "cell_type": "code",
   "execution_count": 45,
   "metadata": {},
   "outputs": [
    {
     "data": {
      "text/plain": [
       "{'1 x 1': 1,\n",
       " '1 x 2': 2,\n",
       " '1 x 3': 3,\n",
       " '1 x 4': 4,\n",
       " '1 x 5': 5,\n",
       " '1 x 6': 6,\n",
       " '1 x 7': 7,\n",
       " '1 x 8': 8,\n",
       " '1 x 9': 9,\n",
       " '1 x 10': 10,\n",
       " '1 x 11': 11,\n",
       " '1 x 12': 12,\n",
       " '2 x 2': 4,\n",
       " '2 x 3': 6,\n",
       " '2 x 4': 8,\n",
       " '2 x 5': 10,\n",
       " '2 x 6': 12,\n",
       " '2 x 7': 14,\n",
       " '2 x 8': 16,\n",
       " '2 x 9': 18,\n",
       " '2 x 10': 20,\n",
       " '2 x 11': 22,\n",
       " '2 x 12': 24,\n",
       " '3 x 3': 9,\n",
       " '3 x 4': 12,\n",
       " '3 x 5': 15,\n",
       " '3 x 6': 18,\n",
       " '3 x 7': 21,\n",
       " '3 x 8': 24,\n",
       " '3 x 9': 27,\n",
       " '3 x 10': 30,\n",
       " '3 x 11': 33,\n",
       " '3 x 12': 36,\n",
       " '4 x 4': 16,\n",
       " '4 x 5': 20,\n",
       " '4 x 6': 24,\n",
       " '4 x 7': 28,\n",
       " '4 x 8': 32,\n",
       " '4 x 9': 36,\n",
       " '4 x 10': 40,\n",
       " '4 x 11': 44,\n",
       " '4 x 12': 48,\n",
       " '5 x 5': 25,\n",
       " '5 x 6': 30,\n",
       " '5 x 7': 35,\n",
       " '5 x 8': 40,\n",
       " '5 x 9': 45,\n",
       " '5 x 10': 50,\n",
       " '5 x 11': 55,\n",
       " '5 x 12': 60,\n",
       " '6 x 6': 36,\n",
       " '6 x 7': 42,\n",
       " '6 x 8': 48,\n",
       " '6 x 9': 54,\n",
       " '6 x 10': 60,\n",
       " '6 x 11': 66,\n",
       " '6 x 12': 72,\n",
       " '7 x 7': 49,\n",
       " '7 x 8': 56,\n",
       " '7 x 9': 63,\n",
       " '7 x 10': 70,\n",
       " '7 x 11': 77,\n",
       " '7 x 12': 84,\n",
       " '8 x 8': 64,\n",
       " '8 x 9': 72,\n",
       " '8 x 10': 80,\n",
       " '8 x 11': 88,\n",
       " '8 x 12': 96,\n",
       " '9 x 9': 81,\n",
       " '9 x 10': 90,\n",
       " '9 x 11': 99,\n",
       " '9 x 12': 108,\n",
       " '10 x 10': 100,\n",
       " '10 x 11': 110,\n",
       " '10 x 12': 120,\n",
       " '11 x 11': 121,\n",
       " '11 x 12': 132,\n",
       " '12 x 12': 144}"
      ]
     },
     "execution_count": 45,
     "metadata": {},
     "output_type": "execute_result"
    }
   ],
   "source": [
    "times_tables = {}\n",
    "\n",
    "for i in range(1, 13):\n",
    "    for j in range(1, 13):\n",
    "        if i <= j:\n",
    "            times_tables[str(i) + ' x ' + str(j)] = i*j\n",
    "\n",
    "times_tables"
   ]
  },
  {
   "cell_type": "code",
   "execution_count": 46,
   "metadata": {},
   "outputs": [
    {
     "data": {
      "text/plain": [
       "{'1 x 1': 1,\n",
       " '1 x 2': 2,\n",
       " '1 x 3': 3,\n",
       " '1 x 4': 4,\n",
       " '1 x 5': 5,\n",
       " '1 x 6': 6,\n",
       " '1 x 7': 7,\n",
       " '1 x 8': 8,\n",
       " '1 x 9': 9,\n",
       " '1 x 10': 10,\n",
       " '1 x 11': 11,\n",
       " '1 x 12': 12,\n",
       " '2 x 2': 4,\n",
       " '2 x 3': 6,\n",
       " '2 x 4': 8,\n",
       " '2 x 5': 10,\n",
       " '2 x 6': 12,\n",
       " '2 x 7': 14,\n",
       " '2 x 8': 16,\n",
       " '2 x 9': 18,\n",
       " '2 x 10': 20,\n",
       " '2 x 11': 22,\n",
       " '2 x 12': 24,\n",
       " '3 x 3': 9,\n",
       " '3 x 4': 12,\n",
       " '3 x 5': 15,\n",
       " '3 x 6': 18,\n",
       " '3 x 7': 21,\n",
       " '3 x 8': 24,\n",
       " '3 x 9': 27,\n",
       " '3 x 10': 30,\n",
       " '3 x 11': 33,\n",
       " '3 x 12': 36,\n",
       " '4 x 4': 16,\n",
       " '4 x 5': 20,\n",
       " '4 x 6': 24,\n",
       " '4 x 7': 28,\n",
       " '4 x 8': 32,\n",
       " '4 x 9': 36,\n",
       " '4 x 10': 40,\n",
       " '4 x 11': 44,\n",
       " '4 x 12': 48,\n",
       " '5 x 5': 25,\n",
       " '5 x 6': 30,\n",
       " '5 x 7': 35,\n",
       " '5 x 8': 40,\n",
       " '5 x 9': 45,\n",
       " '5 x 10': 50,\n",
       " '5 x 11': 55,\n",
       " '5 x 12': 60,\n",
       " '6 x 6': 36,\n",
       " '6 x 7': 42,\n",
       " '6 x 8': 48,\n",
       " '6 x 9': 54,\n",
       " '6 x 10': 60,\n",
       " '6 x 11': 66,\n",
       " '6 x 12': 72,\n",
       " '7 x 7': 49,\n",
       " '7 x 8': 56,\n",
       " '7 x 9': 63,\n",
       " '7 x 10': 70,\n",
       " '7 x 11': 77,\n",
       " '7 x 12': 84,\n",
       " '8 x 8': 64,\n",
       " '8 x 9': 72,\n",
       " '8 x 10': 80,\n",
       " '8 x 11': 88,\n",
       " '8 x 12': 96,\n",
       " '9 x 9': 81,\n",
       " '9 x 10': 90,\n",
       " '9 x 11': 99,\n",
       " '9 x 12': 108,\n",
       " '10 x 10': 100,\n",
       " '10 x 11': 110,\n",
       " '10 x 12': 120,\n",
       " '11 x 11': 121,\n",
       " '11 x 12': 132,\n",
       " '12 x 12': 144}"
      ]
     },
     "execution_count": 46,
     "metadata": {},
     "output_type": "execute_result"
    }
   ],
   "source": [
    "{str(i) + ' x ' + str(j) : i*j for i in range(1, 13) for j in range(1, 13) if i <= j}"
   ]
  },
  {
   "cell_type": "code",
   "execution_count": null,
   "metadata": {},
   "outputs": [],
   "source": []
  }
 ],
 "metadata": {
  "kernelspec": {
   "display_name": "Python 3",
   "language": "python",
   "name": "python3"
  },
  "language_info": {
   "codemirror_mode": {
    "name": "ipython",
    "version": 3
   },
   "file_extension": ".py",
   "mimetype": "text/x-python",
   "name": "python",
   "nbconvert_exporter": "python",
   "pygments_lexer": "ipython3",
   "version": "3.6.8"
  }
 },
 "nbformat": 4,
 "nbformat_minor": 2
}
