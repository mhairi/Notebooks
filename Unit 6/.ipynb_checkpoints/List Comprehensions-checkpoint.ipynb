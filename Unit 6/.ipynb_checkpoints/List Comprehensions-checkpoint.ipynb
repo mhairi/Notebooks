{
 "cells": [
  {
   "cell_type": "markdown",
   "metadata": {},
   "source": [
    "### Basic List Comprehensions\n",
    "\n",
    "Before we get into the details of sentiment analysis, we're going to cover a Python concept that wasn't covered in unit one: list comprehensions. They are a somewhat advanced topic, but they make much of the code in the next units easier to read and understand.\n",
    "\n",
    "Basically, a list comprehension is a short-hand way of writing a loop in Python. They are particularly useful when you would normally write a loop which adds elements into a list. The best way to understand them is though examples. For each type of list comprehension we will show you an example with a loop, and then show you the same code done with a list comprehension.\n",
    "\n",
    "Below we have code which makes a list of all the square numbers up to 100. You need to start by creating and empty list and then filling it inside a loop with append."
   ]
  },
  {
   "cell_type": "code",
   "execution_count": 3,
   "metadata": {},
   "outputs": [
    {
     "data": {
      "text/plain": [
       "[0, 1, 4, 9, 16, 25, 36, 49, 64, 81, 100]"
      ]
     },
     "execution_count": 3,
     "metadata": {},
     "output_type": "execute_result"
    }
   ],
   "source": [
    "squares = []\n",
    "\n",
    "for i in range(11):\n",
    "    squares.append(i**2)\n",
    "    \n",
    "squares"
   ]
  },
  {
   "cell_type": "markdown",
   "metadata": {},
   "source": [
    "Now you can see the same list, created with a list comprehension. Note that you start with the code that was inside the loop and then have the same for statement afterwards. Everything is wrapped in a list"
   ]
  },
  {
   "cell_type": "code",
   "execution_count": 12,
   "metadata": {},
   "outputs": [
    {
     "data": {
      "text/plain": [
       "[0, 1, 4, 9, 16, 25, 36, 49, 64, 81, 100]"
      ]
     },
     "execution_count": 12,
     "metadata": {},
     "output_type": "execute_result"
    }
   ],
   "source": [
    "[i**2 for i in range(11)]"
   ]
  },
  {
   "cell_type": "markdown",
   "metadata": {},
   "source": [
    "### If-statements in list comprehensions"
   ]
  },
  {
   "cell_type": "markdown",
   "metadata": {},
   "source": [
    "Below is a loop that creates a list of numbers which are divisible by 8. This is more complicated that our first loop because it includes an if-statement."
   ]
  },
  {
   "cell_type": "code",
   "execution_count": 13,
   "metadata": {},
   "outputs": [
    {
     "data": {
      "text/plain": [
       "[0, 8, 16, 24, 32, 40, 48, 56, 64, 72, 80, 88, 96]"
      ]
     },
     "execution_count": 13,
     "metadata": {},
     "output_type": "execute_result"
    }
   ],
   "source": [
    "multiples_of_8 = []\n",
    "\n",
    "for i in range(101):\n",
    "    \n",
    "    if i % 8 == 0:\n",
    "        multiples_of_8.append(i)\n",
    "        \n",
    "multiples_of_8"
   ]
  },
  {
   "cell_type": "markdown",
   "metadata": {},
   "source": [
    "If you want to use an if-statement inside a list comprehension, it comes after the loop part."
   ]
  },
  {
   "cell_type": "code",
   "execution_count": 11,
   "metadata": {},
   "outputs": [
    {
     "data": {
      "text/plain": [
       "[0, 8, 16, 24, 32, 40, 48, 56, 64, 72, 80, 88, 96]"
      ]
     },
     "execution_count": 11,
     "metadata": {},
     "output_type": "execute_result"
    }
   ],
   "source": [
    "[i for i in range(101) if i % 8 == 0]"
   ]
  },
  {
   "cell_type": "markdown",
   "metadata": {},
   "source": [
    "### Nested list comprehensions\n",
    "\n",
    "Below we have code that combines 'Hello' or 'Goodbye' with a name and adds it to a list. It does this though a nested loop: we start by looping through the first word and then we loop through all the names. This gives us every combination of first word and name."
   ]
  },
  {
   "cell_type": "code",
   "execution_count": 18,
   "metadata": {},
   "outputs": [
    {
     "data": {
      "text/plain": [
       "['Hello Chris',\n",
       " 'Hello Mhairi',\n",
       " 'Hello Roseanne',\n",
       " 'Goodbye Chris',\n",
       " 'Goodbye Mhairi',\n",
       " 'Goodbye Roseanne']"
      ]
     },
     "execution_count": 18,
     "metadata": {},
     "output_type": "execute_result"
    }
   ],
   "source": [
    "greetings = []\n",
    "\n",
    "for start in ['Hello', 'Goodbye']:\n",
    "    for name in ['Chris', 'Mhairi', 'Roseanne']:\n",
    "        \n",
    "        greeting = start + ' ' + name\n",
    "        greetings.append(greeting)\n",
    "\n",
    "greetings"
   ]
  },
  {
   "cell_type": "markdown",
   "metadata": {},
   "source": [
    "This can be done much more compactly with a list comprehension. If you have one loop after the other, they will nest."
   ]
  },
  {
   "cell_type": "code",
   "execution_count": 17,
   "metadata": {},
   "outputs": [
    {
     "data": {
      "text/plain": [
       "['Hello Chris',\n",
       " 'Hello Mhairi',\n",
       " 'Hello Roseanne',\n",
       " 'Goodbye Chris',\n",
       " 'Goodbye Mhairi',\n",
       " 'Goodbye Roseanne']"
      ]
     },
     "execution_count": 17,
     "metadata": {},
     "output_type": "execute_result"
    }
   ],
   "source": [
    "[start + ' ' + name for start in ['Hello', 'Goodbye'] for name in ['Chris', 'Mhairi', 'Roseanne']]"
   ]
  },
  {
   "cell_type": "markdown",
   "metadata": {},
   "source": [
    "### Dictionary comprehensions"
   ]
  },
  {
   "cell_type": "code",
   "execution_count": null,
   "metadata": {},
   "outputs": [],
   "source": []
  },
  {
   "cell_type": "code",
   "execution_count": 20,
   "metadata": {},
   "outputs": [
    {
     "data": {
      "text/plain": [
       "{4: '4th', 5: '5th', 6: '6th', 7: '7th', 8: '8th', 9: '9th', 10: '10th'}"
      ]
     },
     "execution_count": 20,
     "metadata": {},
     "output_type": "execute_result"
    }
   ],
   "source": [
    "{i:str(i) + 'th' for i in range(4, 11)}"
   ]
  }
 ],
 "metadata": {
  "kernelspec": {
   "display_name": "Python 3",
   "language": "python",
   "name": "python3"
  },
  "language_info": {
   "codemirror_mode": {
    "name": "ipython",
    "version": 3
   },
   "file_extension": ".py",
   "mimetype": "text/x-python",
   "name": "python",
   "nbconvert_exporter": "python",
   "pygments_lexer": "ipython3",
   "version": "3.6.8"
  }
 },
 "nbformat": 4,
 "nbformat_minor": 2
}
