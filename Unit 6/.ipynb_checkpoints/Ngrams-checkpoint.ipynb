{
 "cells": [
  {
   "cell_type": "code",
   "execution_count": 1,
   "metadata": {},
   "outputs": [],
   "source": [
    "import nltk\n",
    "from nltk import ngrams"
   ]
  },
  {
   "cell_type": "code",
   "execution_count": 2,
   "metadata": {},
   "outputs": [],
   "source": [
    "text = \"The Force Awakens brings back the Old Trilogy 's heart , humor , mystery , and fun .\""
   ]
  },
  {
   "cell_type": "markdown",
   "metadata": {},
   "source": [
    "NLTK conatins a function bigrams() (call with nltk.bigrams()) which returns an iterator of bigrams. \n",
    "\n",
    "However, if you want to create a list of bigrams, you will need to pass the iterator to list(). It also expects a sequence of items to generate bigrams from, so you have to split the text before passing it:"
   ]
  },
  {
   "cell_type": "code",
   "execution_count": 3,
   "metadata": {},
   "outputs": [],
   "source": [
    "bigram_list = list(nltk.bigrams(text.split()))"
   ]
  },
  {
   "cell_type": "markdown",
   "metadata": {},
   "source": [
    "To print them out separated with commas: print(*map(' '.join, bigrm), sep=', ') "
   ]
  },
  {
   "cell_type": "code",
   "execution_count": 5,
   "metadata": {},
   "outputs": [
    {
     "name": "stdout",
     "output_type": "stream",
     "text": [
      "The Force, Force Awakens, Awakens brings, brings back, back the, the Old, Old Trilogy, Trilogy 's, 's heart, heart ,, , humor, humor ,, , mystery, mystery ,, , and, and fun, fun .\n"
     ]
    }
   ],
   "source": [
    "print(*map(' '.join, bigram_list), sep=', ') "
   ]
  },
  {
   "cell_type": "code",
   "execution_count": 6,
   "metadata": {},
   "outputs": [
    {
     "data": {
      "text/plain": [
       "[('The', 'Force'),\n",
       " ('Force', 'Awakens'),\n",
       " ('Awakens', 'brings'),\n",
       " ('brings', 'back'),\n",
       " ('back', 'the'),\n",
       " ('the', 'Old'),\n",
       " ('Old', 'Trilogy'),\n",
       " ('Trilogy', \"'s\"),\n",
       " (\"'s\", 'heart'),\n",
       " ('heart', ','),\n",
       " (',', 'humor'),\n",
       " ('humor', ','),\n",
       " (',', 'mystery'),\n",
       " ('mystery', ','),\n",
       " (',', 'and'),\n",
       " ('and', 'fun'),\n",
       " ('fun', '.')]"
      ]
     },
     "execution_count": 6,
     "metadata": {},
     "output_type": "execute_result"
    }
   ],
   "source": [
    "#Alternatively: instead of split, you can tokenize the text before creatinh the bigrams\n",
    "from nltk.tokenize import word_tokenize\n",
    "tokens = nltk.word_tokenize(text)\n",
    "blist = list(nltk.bigrams(tokens))\n",
    "blist"
   ]
  },
  {
   "cell_type": "markdown",
   "metadata": {},
   "source": [
    "How would you print out 3-grams? "
   ]
  },
  {
   "cell_type": "code",
   "execution_count": 8,
   "metadata": {},
   "outputs": [
    {
     "name": "stdout",
     "output_type": "stream",
     "text": [
      "The Force Awakens, Force Awakens brings, Awakens brings back, brings back the, back the Old, the Old Trilogy, Old Trilogy 's, Trilogy 's heart, 's heart ,, heart , humor, , humor ,, humor , mystery, , mystery ,, mystery , and, , and fun, and fun .\n"
     ]
    }
   ],
   "source": [
    "trigram_list = list(nltk.trigrams(text.split()))\n",
    "print(*map(' '.join, trigram_list), sep=', ') "
   ]
  },
  {
   "cell_type": "markdown",
   "metadata": {},
   "source": [
    "What if you want to print out a different number of n, e.g. 6-grams?"
   ]
  },
  {
   "cell_type": "code",
   "execution_count": 10,
   "metadata": {},
   "outputs": [
    {
     "name": "stdout",
     "output_type": "stream",
     "text": [
      "('The', 'Force', 'Awakens', 'brings', 'back', 'the')\n",
      "('Force', 'Awakens', 'brings', 'back', 'the', 'Old')\n",
      "('Awakens', 'brings', 'back', 'the', 'Old', 'Trilogy')\n",
      "('brings', 'back', 'the', 'Old', 'Trilogy', \"'s\")\n",
      "('back', 'the', 'Old', 'Trilogy', \"'s\", 'heart')\n",
      "('the', 'Old', 'Trilogy', \"'s\", 'heart', ',')\n",
      "('Old', 'Trilogy', \"'s\", 'heart', ',', 'humor')\n",
      "('Trilogy', \"'s\", 'heart', ',', 'humor', ',')\n",
      "(\"'s\", 'heart', ',', 'humor', ',', 'mystery')\n",
      "('heart', ',', 'humor', ',', 'mystery', ',')\n",
      "(',', 'humor', ',', 'mystery', ',', 'and')\n",
      "('humor', ',', 'mystery', ',', 'and', 'fun')\n",
      "(',', 'mystery', ',', 'and', 'fun', '.')\n"
     ]
    }
   ],
   "source": [
    "n = 6\n",
    "sixgram_list = ngrams(text.split(), n)\n",
    "for grams in sixgram_list:\n",
    "    print(grams)"
   ]
  },
  {
   "cell_type": "code",
   "execution_count": null,
   "metadata": {
    "collapsed": true
   },
   "outputs": [],
   "source": []
  }
 ],
 "metadata": {
  "kernelspec": {
   "display_name": "Python 3",
   "language": "python",
   "name": "python3"
  },
  "language_info": {
   "codemirror_mode": {
    "name": "ipython",
    "version": 3
   },
   "file_extension": ".py",
   "mimetype": "text/x-python",
   "name": "python",
   "nbconvert_exporter": "python",
   "pygments_lexer": "ipython3",
   "version": "3.7.1"
  }
 },
 "nbformat": 4,
 "nbformat_minor": 2
}
