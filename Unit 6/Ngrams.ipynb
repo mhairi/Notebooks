{
 "cells": [
  {
   "cell_type": "markdown",
   "metadata": {},
   "source": [
    "As discussed earlier, one of the problems with Naive Bayes is that it doesn't consider the order words appear in or their context. One way we can fix this is to use 'n-grams', rather than simple words as features for training our classfier. \n",
    "\n",
    "A 2-gram (also known as a bigram) is the collection of every set of two words in a sentence. For example, in the sentence:\n",
    "\n",
    "'Wolves run faster than dogs'\n",
    "\n",
    "the bigrams would be: 'Wolves run', 'run faster', 'faster than', 'than dogs'.\n",
    "\n",
    "Note that most words appear more than once - both at the start of and the end of a bigram.\n",
    "\n",
    "A 3-gram (or trigram) is the collection of every set of three words. For our sentence this would be: 'Wolves run faster', 'run faster than', 'faster than dogs'.\n",
    "\n",
    "We can extend this to collections of any number of words. Collections of 7 words are 7-grams, and collections of 11 words are 11-grams. However, it's unusal to use more than trigrams in most applications. \n",
    "\n",
    "### Bigrams in NLTK\n",
    "\n",
    "NLTK conatins a function bigrams() (call with nltk.bigrams()) which returns an iterator of bigrams. \n",
    "\n",
    "However, if you want to create a list of bigrams, you will need to pass the iterator to list(). It also expects a sequence of items to generate bigrams from, so you have to split the text before passing it:"
   ]
  },
  {
   "cell_type": "code",
   "execution_count": 1,
   "metadata": {},
   "outputs": [],
   "source": [
    "import nltk\n",
    "from nltk import ngrams"
   ]
  },
  {
   "cell_type": "code",
   "execution_count": 2,
   "metadata": {},
   "outputs": [],
   "source": [
    "text = \"The Force Awakens brings back the Old Trilogy 's heart , humor , mystery , and fun .\""
   ]
  },
  {
   "cell_type": "code",
   "execution_count": 11,
   "metadata": {},
   "outputs": [],
   "source": [
    "bigram_list = list(nltk.bigrams(text.split()))"
   ]
  },
  {
   "cell_type": "markdown",
   "metadata": {},
   "source": [
    "To print them out separated with commas: print(*map(' '.join, bigrm), sep=', ') "
   ]
  },
  {
   "cell_type": "code",
   "execution_count": 12,
   "metadata": {},
   "outputs": [
    {
     "name": "stdout",
     "output_type": "stream",
     "text": [
      "The Force, Force Awakens, Awakens brings, brings back, back the, the Old, Old Trilogy, Trilogy 's, 's heart, heart ,, , humor, humor ,, , mystery, mystery ,, , and, and fun, fun .\n"
     ]
    }
   ],
   "source": [
    "print(*map(' '.join, bigram_list), sep=', ') "
   ]
  },
  {
   "cell_type": "code",
   "execution_count": 13,
   "metadata": {},
   "outputs": [
    {
     "data": {
      "text/plain": [
       "[('The', 'Force'),\n",
       " ('Force', 'Awakens'),\n",
       " ('Awakens', 'brings'),\n",
       " ('brings', 'back'),\n",
       " ('back', 'the'),\n",
       " ('the', 'Old'),\n",
       " ('Old', 'Trilogy'),\n",
       " ('Trilogy', \"'s\"),\n",
       " (\"'s\", 'heart'),\n",
       " ('heart', ','),\n",
       " (',', 'humor'),\n",
       " ('humor', ','),\n",
       " (',', 'mystery'),\n",
       " ('mystery', ','),\n",
       " (',', 'and'),\n",
       " ('and', 'fun'),\n",
       " ('fun', '.')]"
      ]
     },
     "execution_count": 13,
     "metadata": {},
     "output_type": "execute_result"
    }
   ],
   "source": [
    "#Alternatively: instead of split, you can tokenize the text before creatinh the bigrams\n",
    "from nltk.tokenize import word_tokenize\n",
    "tokens = nltk.word_tokenize(text)\n",
    "blist = list(nltk.bigrams(tokens))\n",
    "blist"
   ]
  },
  {
   "cell_type": "markdown",
   "metadata": {},
   "source": [
    "How would you print out 3-grams? "
   ]
  },
  {
   "cell_type": "code",
   "execution_count": 14,
   "metadata": {},
   "outputs": [
    {
     "name": "stdout",
     "output_type": "stream",
     "text": [
      "The Force Awakens, Force Awakens brings, Awakens brings back, brings back the, back the Old, the Old Trilogy, Old Trilogy 's, Trilogy 's heart, 's heart ,, heart , humor, , humor ,, humor , mystery, , mystery ,, mystery , and, , and fun, and fun .\n"
     ]
    }
   ],
   "source": [
    "trigram_list = list(nltk.trigrams(text.split()))\n",
    "print(*map(' '.join, trigram_list), sep=', ') "
   ]
  },
  {
   "cell_type": "markdown",
   "metadata": {},
   "source": [
    "What if you want to print out a different number of n, e.g. 6-grams?"
   ]
  },
  {
   "cell_type": "code",
   "execution_count": 15,
   "metadata": {},
   "outputs": [
    {
     "name": "stdout",
     "output_type": "stream",
     "text": [
      "('The', 'Force', 'Awakens', 'brings', 'back', 'the')\n",
      "('Force', 'Awakens', 'brings', 'back', 'the', 'Old')\n",
      "('Awakens', 'brings', 'back', 'the', 'Old', 'Trilogy')\n",
      "('brings', 'back', 'the', 'Old', 'Trilogy', \"'s\")\n",
      "('back', 'the', 'Old', 'Trilogy', \"'s\", 'heart')\n",
      "('the', 'Old', 'Trilogy', \"'s\", 'heart', ',')\n",
      "('Old', 'Trilogy', \"'s\", 'heart', ',', 'humor')\n",
      "('Trilogy', \"'s\", 'heart', ',', 'humor', ',')\n",
      "(\"'s\", 'heart', ',', 'humor', ',', 'mystery')\n",
      "('heart', ',', 'humor', ',', 'mystery', ',')\n",
      "(',', 'humor', ',', 'mystery', ',', 'and')\n",
      "('humor', ',', 'mystery', ',', 'and', 'fun')\n",
      "(',', 'mystery', ',', 'and', 'fun', '.')\n"
     ]
    }
   ],
   "source": [
    "n = 6\n",
    "sixgram_list = ngrams(text.split(), n)\n",
    "for grams in sixgram_list:\n",
    "    print(grams)"
   ]
  }
 ],
 "metadata": {
  "kernelspec": {
   "display_name": "Python 3",
   "language": "python",
   "name": "python3"
  },
  "language_info": {
   "codemirror_mode": {
    "name": "ipython",
    "version": 3
   },
   "file_extension": ".py",
   "mimetype": "text/x-python",
   "name": "python",
   "nbconvert_exporter": "python",
   "pygments_lexer": "ipython3",
   "version": "3.7.1"
  }
 },
 "nbformat": 4,
 "nbformat_minor": 2
}
