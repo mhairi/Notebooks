{
 "cells": [
  {
   "cell_type": "code",
   "execution_count": 1,
   "metadata": {},
   "outputs": [],
   "source": [
    "import praw, csv, datetime, json\n",
    "import pandas as pd\n",
    "import numpy as np"
   ]
  },
  {
   "cell_type": "code",
   "execution_count": 19,
   "metadata": {},
   "outputs": [],
   "source": [
    "import config\n",
    "reddit = praw.Reddit(client_id=config.reddit_id, \\\n",
    "                     client_secret=config.reddit_secret, \\\n",
    "                     user_agent=config.reddit_user_agent)"
   ]
  },
  {
   "cell_type": "code",
   "execution_count": 87,
   "metadata": {},
   "outputs": [],
   "source": [
    "def create_list(post):\n",
    "    # Format the date nicely before we need to use it\n",
    "    dt = datetime.datetime.utcfromtimestamp(post.created_utc).strftime('%Y-%m-%d %H:%M:%S')\n",
    "    # Extract all the fields we care about before feeding them to pandas\n",
    "    return [post.id, dt, (post.author.name if post.author else 'NULL'), post.gilded, post.title, post.score, post.num_comments, post.selftext]"
   ]
  },
  {
   "cell_type": "code",
   "execution_count": 91,
   "metadata": {},
   "outputs": [],
   "source": [
    "# Use a list comprehension to create a list of lists to feed into a dataframe\n",
    "posts = [create_list(post) for post in reddit.subreddit('chapotraphouse').hot(limit=200)]"
   ]
  },
  {
   "cell_type": "code",
   "execution_count": 95,
   "metadata": {},
   "outputs": [],
   "source": [
    "# Column headers\n",
    "names = ['ID', 'Created', 'Author', 'Gilded', 'Title', 'Score', 'Comments', 'Text']\n",
    "pd_posts = pd.DataFrame(posts, columns=names)"
   ]
  },
  {
   "cell_type": "code",
   "execution_count": 96,
   "metadata": {},
   "outputs": [
    {
     "name": "stdout",
     "output_type": "stream",
     "text": [
      "Average score for post: 330.105\n",
      "Ratio of posts with a score > 100: 94 / 200\n",
      "Average number of comments per post: 42.725\n",
      "Ratio of posts that were gilded: 0 / 200\n"
     ]
    }
   ],
   "source": [
    "print(\"Average score for post:\", np.mean(pd_posts['Score']))\n",
    "print(\"Ratio of posts with a score > 100:\", len(pd_posts[pd_posts['Score'] > 100]), \"/\", len(pd_posts))\n",
    "print(\"Average number of comments per post:\", np.mean(pd_posts['Comments']))\n",
    "print(\"Ratio of posts that were gilded:\", len(pd_posts[pd_posts['Gilded'] > 0]), \"/\", len(pd_posts))"
   ]
  },
  {
   "cell_type": "code",
   "execution_count": null,
   "metadata": {},
   "outputs": [],
   "source": [
    "pd_posts"
   ]
  },
  {
   "cell_type": "code",
   "execution_count": null,
   "metadata": {},
   "outputs": [],
   "source": []
  }
 ],
 "metadata": {
  "kernelspec": {
   "display_name": "Python 3",
   "language": "python",
   "name": "python3"
  },
  "language_info": {
   "codemirror_mode": {
    "name": "ipython",
    "version": 3
   },
   "file_extension": ".py",
   "mimetype": "text/x-python",
   "name": "python",
   "nbconvert_exporter": "python",
   "pygments_lexer": "ipython3",
   "version": "3.7.1"
  }
 },
 "nbformat": 4,
 "nbformat_minor": 2
}
