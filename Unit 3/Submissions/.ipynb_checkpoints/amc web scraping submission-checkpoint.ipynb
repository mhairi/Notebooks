{
 "cells": [
  {
   "cell_type": "code",
   "execution_count": 2,
   "metadata": {},
   "outputs": [
    {
     "name": "stdout",
     "output_type": "stream",
     "text": [
      "the average price is 154.0\n",
      "the cheapest price is Sky-Watcher Explorer-130 EQ2 Telescope at £ 149\n",
      "the most expensive is Sky-Watcher Evostar-90 (EQ2) Achromatic Refractor Telescope at £ 159\n"
     ]
    }
   ],
   "source": [
    "import requests\n",
    "import csv\n",
    "import numpy as np\n",
    "from bs4 import BeautifulSoup\n",
    "from datetime import datetime\n",
    "\n",
    "\n",
    "# use a similar structure as from the unit 3 lessons\n",
    "\n",
    "target_page = ['https://www.wexphotovideo.com/sky-watcher-explorer-130-eq2-telescope-1017011/',\n",
    "               'https://www.wexphotovideo.com/sky-watcher-evostar-90-eq2-achromatic-refractor-telescope-10584/'\n",
    "              ]\n",
    "\n",
    "data = []\n",
    "for pg in target_page:\n",
    "    \n",
    "    page = requests.get(pg)\n",
    "\n",
    "# parse the html using beautiful soup and store in variable `soup`\n",
    "    soup = BeautifulSoup(page.content, 'html.parser')\n",
    "\n",
    "#get name\n",
    "    name_box = soup.find('h1', attrs={'class': 'h1'})\n",
    "    name = name_box.text.strip()\n",
    "\n",
    "#get price\n",
    "    price_box = soup.find('span', attrs={'class':'price wex-red'})\n",
    "    price_raw = price_box.text.strip()\n",
    "    price = int(price_raw[1:4])\n",
    "\n",
    "    data.append((name,price))\n",
    "    \n",
    "# probably easier ways to do this!!\n",
    "\n",
    "average = []\n",
    "expensive = 0\n",
    "cheap = 10000000\n",
    "for counter in range(len(data)):\n",
    "    price = data[counter][1]\n",
    "    average.append(data[counter][1])\n",
    "    if price > expensive:\n",
    "        expensive = price\n",
    "        exp_string = data[counter][0]\n",
    "    if price < cheap:\n",
    "        cheap = price\n",
    "        chp_string = data[counter][0]\n",
    "    \n",
    "mean = np.mean([average])\n",
    "print(\"the average price is\",mean)\n",
    "print(\"the cheapest price is\", chp_string,\"at £\",cheap)\n",
    "print(\"the most expensive is\", exp_string, \"at £\",expensive)\n",
    "\n",
    "#with open('price.csv', 'a') as csv_file:\n",
    "#    writer = csv.writer(csv_file)\n",
    "#    for name, price in data:\n",
    "#        writer.writerow([name, price, datetime.now()])\n",
    "    \n",
    "\n"
   ]
  },
  {
   "cell_type": "code",
   "execution_count": 43,
   "metadata": {},
   "outputs": [
    {
     "data": {
      "text/plain": [
       "2.0"
      ]
     },
     "execution_count": 43,
     "metadata": {},
     "output_type": "execute_result"
    }
   ],
   "source": [
    "import numpy as np\n",
    "np.mean([1,2,3])\n"
   ]
  },
  {
   "cell_type": "code",
   "execution_count": null,
   "metadata": {},
   "outputs": [],
   "source": []
  },
  {
   "cell_type": "code",
   "execution_count": null,
   "metadata": {},
   "outputs": [],
   "source": []
  }
 ],
 "metadata": {
  "kernelspec": {
   "display_name": "Python 3",
   "language": "python",
   "name": "python3"
  },
  "language_info": {
   "codemirror_mode": {
    "name": "ipython",
    "version": 3
   },
   "file_extension": ".py",
   "mimetype": "text/x-python",
   "name": "python",
   "nbconvert_exporter": "python",
   "pygments_lexer": "ipython3",
   "version": "3.7.1"
  }
 },
 "nbformat": 4,
 "nbformat_minor": 2
}
