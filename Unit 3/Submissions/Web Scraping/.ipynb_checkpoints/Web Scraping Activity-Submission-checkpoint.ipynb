{
 "cells": [
  {
   "cell_type": "code",
   "execution_count": 3,
   "metadata": {},
   "outputs": [],
   "source": [
    "import requests\n",
    "import csv\n",
    "from datetime import datetime\n",
    "from bs4 import BeautifulSoup\n",
    "\n",
    "# Setup the target Webpage\n",
    "target_page = ['https://www.marksandspencer.com/l/men/fleece']\n",
    "\n",
    "# Setup the list to add the scraped data items to \n",
    "data = []\n",
    "\n",
    "# Retieve the HTML web page content\n",
    "page = requests.get(target_page[0])\n",
    "\n",
    "# parse the html using beautiful soup and store in variable `soup`\n",
    "soup = BeautifulSoup(page.content, 'html.parser')\n",
    "\n",
    "# Find all detail items for \"Mens Fleeces\"\n",
    "name_box = soup.findAll('div',attrs={\"class\":\"product__details\"})\n",
    "\n",
    "# How many items did we find. Need to know this so we can loop over each item\n",
    "items = len(name_box)\n",
    "\n",
    "# Process loop to go through each item and retrieve the item name and price ( plus some data cleaning)\n",
    "for i in range(0,items,2):\n",
    "\n",
    "    name_decr_box = name_box[i].find('h3', attrs={'class':'product__title'})\n",
    "    name = name_decr_box.text.strip()\n",
    "    name = name.replace('™', '')\n",
    "\n",
    "    price_decr_box = name_box[i].find('div', attrs={'class':'product__price--current'})\n",
    "    price = price_decr_box.text.strip()\n",
    "    price = price.replace('Current Price £', '')\n",
    "\n",
    "    #save the data\n",
    "    data.append((name,price))\n",
    "\n",
    "# Some duplicate items were found due to different colour items, so remove the duplicates from the list\n",
    "data = list(dict.fromkeys(data))\n",
    "\n",
    "# Save to collected data to a CSV file with a header row\n",
    "with open('marksspencer_mens_Fleeces.csv', 'a') as csv_file:\n",
    "    writer = csv.writer(csv_file)\n",
    "    writer.writerow([ \"itemname\", \"price\" ])\n",
    "    for name, price in data:\n",
    "        writer.writerow([name,price])"
   ]
  },
  {
   "cell_type": "code",
   "execution_count": 4,
   "metadata": {},
   "outputs": [
    {
     "name": "stdout",
     "output_type": "stream",
     "text": [
      "Average Price = £ 36.48\n",
      "Most Expensive item is: Hooded Fleece Jacket with Stormwear at £ 99.0\n",
      "Cheapest item is: Crew Neck Fleece Top with Stormwear at £ 12.5\n"
     ]
    }
   ],
   "source": [
    "import pandas as pd\n",
    "import numpy as np\n",
    "\n",
    "# Read in the CSV file created by previous section.\n",
    "df = pd.read_csv('marksspencer_mens_Fleeces.csv')\n",
    "\n",
    "# Output the resulting answers from teh exercise \n",
    "print(\"Average Price = £ \" + round(np.average(df.price),2).astype('str'))\n",
    "print(\"Most Expensive item is: \" + df.loc[df['price'].idxmax()].itemname + \" at £ \" + round(np.average(df.loc[df['price'].idxmax()].price),2).astype('str')  )\n",
    "print(\"Cheapest item is: \" + df.loc[df['price'].idxmin()].itemname + \" at £ \" + round(np.average(df.loc[df['price'].idxmin()].price),2).astype('str')  )\n",
    "\n",
    "\n"
   ]
  },
  {
   "cell_type": "code",
   "execution_count": null,
   "metadata": {},
   "outputs": [],
   "source": []
  },
  {
   "cell_type": "code",
   "execution_count": null,
   "metadata": {},
   "outputs": [],
   "source": []
  }
 ],
 "metadata": {
  "kernelspec": {
   "display_name": "Python 3",
   "language": "python",
   "name": "python3"
  },
  "language_info": {
   "codemirror_mode": {
    "name": "ipython",
    "version": 3
   },
   "file_extension": ".py",
   "mimetype": "text/x-python",
   "name": "python",
   "nbconvert_exporter": "python",
   "pygments_lexer": "ipython3",
   "version": "3.7.1"
  }
 },
 "nbformat": 4,
 "nbformat_minor": 2
}
