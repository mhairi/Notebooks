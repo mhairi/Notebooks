{
 "cells": [
  {
   "cell_type": "markdown",
   "metadata": {},
   "source": [
    "# Web Scraping Activity\n",
    "\n",
    "Ben Property real estate: http://www.benproperty.co.uk"
   ]
  },
  {
   "cell_type": "code",
   "execution_count": 1,
   "metadata": {},
   "outputs": [
    {
     "name": "stdout",
     "output_type": "stream",
     "text": [
      "The average price of the properties is £1799.61\n",
      "The maximum price is £6500\n",
      "The mimimum price is £250\n"
     ]
    }
   ],
   "source": [
    "# Import the necessary libraries\n",
    "import csv\n",
    "from bs4 import BeautifulSoup\n",
    "import requests\n",
    "import numpy as np\n",
    "\n",
    "# Set the url to scrape data from\n",
    "target_page = 'http://www.benproperty.co.uk/available-property/?festival=Y'  # Ben Property real estate\n",
    "page = requests.get(target_page)\n",
    "\n",
    "# Parse the html using beautiful soup and store in variable `soup`\n",
    "soup = BeautifulSoup(page.content, 'html.parser')\n",
    "\n",
    "# Get the name and price of each property and store the values in two lists, name[] and price[]\n",
    "name = []\n",
    "price = []\n",
    "name_box = soup.find_all('a', attrs = {'rel':'bookmark'})\n",
    "price_box = soup.find_all('span', attrs = {'datatype':'xsd:float'})\n",
    "for item in range(len(name_box)):\n",
    "    name.append(name_box[item].text.strip())\n",
    "    price.append(price_box[item].text.strip())\n",
    "    price[item] = (int(price[item]))\n",
    "    \n",
    "print ('The average price of the properties is £{}'.format(round(np.mean(price), 2)))    \n",
    "print ('The maximum price is £{}'.format(max(price)))\n",
    "print ('The mimimum price is £{}'.format(min(price)))"
   ]
  },
  {
   "cell_type": "code",
   "execution_count": null,
   "metadata": {},
   "outputs": [],
   "source": []
  }
 ],
 "metadata": {
  "kernelspec": {
   "display_name": "Python 3",
   "language": "python",
   "name": "python3"
  },
  "language_info": {
   "codemirror_mode": {
    "name": "ipython",
    "version": 3
   },
   "file_extension": ".py",
   "mimetype": "text/x-python",
   "name": "python",
   "nbconvert_exporter": "python",
   "pygments_lexer": "ipython3",
   "version": "3.7.1"
  }
 },
 "nbformat": 4,
 "nbformat_minor": 2
}
