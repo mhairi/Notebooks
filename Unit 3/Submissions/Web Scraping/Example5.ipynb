{
 "cells": [
  {
   "cell_type": "code",
   "execution_count": 1,
   "metadata": {},
   "outputs": [],
   "source": [
    "import requests, csv, datetime\n",
    "from bs4 import BeautifulSoup\n",
    "import pandas as pd\n",
    "import numpy as np"
   ]
  },
  {
   "cell_type": "code",
   "execution_count": 2,
   "metadata": {},
   "outputs": [],
   "source": [
    "data=[]\n",
    "catUrls = ['https://www.cdkeys.com/nintendo/switch/1', 'https://www.cdkeys.com/nintendo/switch/2'] # Only 2 pages in category\n",
    "for url in catUrls: # Iterate through category\n",
    "    soup = BeautifulSoup(requests.get(url).content, 'html.parser') # Parse each page to BS\n",
    "    for item in soup.find_all('div', class_='custom_category-list'): # Iterate through list of separate product items\n",
    "        name = item.find('div', class_='game-name').h2.text.strip() # Get clean string for name\n",
    "        price = item.find('span', class_='price').text[1:].strip() # Drop the currency character for price\n",
    "        data.append((name, price)) # Attach a tuple of name, price"
   ]
  },
  {
   "cell_type": "code",
   "execution_count": 3,
   "metadata": {},
   "outputs": [],
   "source": [
    "# Write out into a new CSV, adding current datetime value\n",
    "with open('cdkeys-switch-prices.csv', 'w', newline='') as file: #newline='' is necessary to avoid \\r\\r\\n double row breaks\n",
    "    file_writer = csv.writer(file)\n",
    "    for (name, price) in data:\n",
    "        file_writer.writerow([name, price, datetime.datetime.now()])"
   ]
  },
  {
   "cell_type": "code",
   "execution_count": 16,
   "metadata": {},
   "outputs": [
    {
     "name": "stdout",
     "output_type": "stream",
     "text": [
      "Average price for a Switch game:  £26.41\n"
     ]
    }
   ],
   "source": [
    "# Read in CSV data into a pandas dataframe with header values\n",
    "game_prices = pd.read_csv('cdkeys-switch-prices.csv', names = ['name', 'price', 'date'], parse_dates = [2])\n",
    "print(\"Average price for a Switch game: \",\"£{:.2f}\".format(np.mean(game_prices['price']))) # format the float mean value as a valid currency string"
   ]
  },
  {
   "cell_type": "code",
   "execution_count": 24,
   "metadata": {},
   "outputs": [
    {
     "name": "stdout",
     "output_type": "stream",
     "text": [
      "The most expensive game is The Legend of Zelda - Breath of the Wild Switch at £55.99\n"
     ]
    }
   ],
   "source": [
    "# Find the index of the most expensive item, then return that row with iloc\n",
    "most_expensive = game_prices.iloc[game_prices['price'].idxmax(axis=1)] #idxmax returns the index of the max value, axis=1 operates on a column\n",
    "print(\"The most expensive game is\", most_expensive['name'], \"at\", \"£{:0.2f}\".format(most_expensive['price']))"
   ]
  },
  {
   "cell_type": "code",
   "execution_count": 23,
   "metadata": {},
   "outputs": [
    {
     "name": "stdout",
     "output_type": "stream",
     "text": [
      "The least expensive game is Pokemon Quest - Stay Strong Stone Switch at £2.39\n"
     ]
    }
   ],
   "source": [
    "# Find the index of the least expensive item, then return that row with iloc\n",
    "least_expensive = game_prices.iloc[game_prices['price'].idxmin(axis=1)]  #idxmin returns the index of the min value, axis=1 operates on a column\n",
    "print(\"The least expensive game is\", least_expensive['name'], \"at\", \"£{:0.2f}\".format(least_expensive['price']))"
   ]
  }
 ],
 "metadata": {
  "kernelspec": {
   "display_name": "Python 3",
   "language": "python",
   "name": "python3"
  },
  "language_info": {
   "codemirror_mode": {
    "name": "ipython",
    "version": 3
   },
   "file_extension": ".py",
   "mimetype": "text/x-python",
   "name": "python",
   "nbconvert_exporter": "python",
   "pygments_lexer": "ipython3",
   "version": "3.7.1"
  }
 },
 "nbformat": 4,
 "nbformat_minor": 2
}
