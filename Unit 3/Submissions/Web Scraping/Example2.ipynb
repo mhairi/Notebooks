{
 "cells": [
  {
   "cell_type": "code",
   "execution_count": 56,
   "metadata": {},
   "outputs": [
    {
     "name": "stdout",
     "output_type": "stream",
     "text": [
      "List of items:\n",
      "                                           Item  Price\n",
      "0  Black Suedette Peep Toe Platform Block Heels  25.99\n",
      "1             Black Two Part Block Heel Sandals  19.99\n",
      "2   Off White Faux Croc Ring Buckle Block Heels  22.99\n",
      "3           Gold Clear Strap Block Heel Sandals  19.99\n",
      "4    Tan Suedette Metal Edge Cross Strap Wedges  19.99\n",
      "5        Navy Suedette Stripe Lined Block Heels  19.99\n",
      "6                 Khaki Suedette Peep Toe Heels  19.99\n",
      "7   Black Suedette Faux Snake Strap Block Heels  29.99\n",
      "8      Black Cross Strap Low Block Heel Sandals  19.99\n",
      "9   Navy Suedette Strappy Stiletto Heel Sandals  25.99\n",
      "\n",
      "Average cost of items is:\n",
      "22.490000000000002\n",
      "\n",
      "Highest priced items:\n",
      "Black Suedette Faux Snake Strap Block Heels\n",
      "\n",
      "Lowest priced items:\n",
      "Black Two Part Block Heel Sandals\n",
      "Gold Clear Strap Block Heel Sandals\n",
      "Tan Suedette Metal Edge Cross Strap Wedges\n",
      "Navy Suedette Stripe Lined Block Heels\n",
      "Khaki Suedette Peep Toe Heels\n",
      "Black Cross Strap Low Block Heel Sandals\n"
     ]
    }
   ],
   "source": [
    "import json\n",
    "import pandas as pd\n",
    "from pprint import pprint\n",
    "import requests\n",
    "import numpy\n",
    "from bs4 import BeautifulSoup\n",
    "from datetime import datetime\n",
    "\n",
    "url = 'https://www.newlook.com/uk/womens/footwear/shoes/sandals/c/uk-womens-footwear-shoes-sandals?comp=BannerLink%7Cwomens%7Cfootwear%7Cuk-womens-footwear'\n",
    "page = requests.get(url)\n",
    "soup = BeautifulSoup(page.content, 'html.parser')\n",
    "result = soup.find_all('script')\n",
    "result_str = result[1].text.strip('\\n\\t\\t\\twindow.nlDatalayer = JSON.parse(\"')\n",
    "result_str = result_str.strip('\");\\n\\t\\t\\twindow.nlDatalayer.page.page_template_type = \\'main\\'')\n",
    "result_dict = result_str.replace(\"\\\\n\", \"\")\n",
    "result_dict = result_dict.replace(\"\\\\\", \"\")\n",
    "rd = json.loads(result_dict)\n",
    "\n",
    "for key, value in rd.items():\n",
    "    if key == 'product':\n",
    "        rdv = value\n",
    "tmp2 = pd.DataFrame(columns=['Item','Price'])\n",
    "\n",
    "for current in rdv:\n",
    "    tmp2 = tmp2.append({'Item':current['name'], 'Price':current['unit_current_price']}, ignore_index = True)\n",
    "print('List of items:')\n",
    "print(tmp2)\n",
    "print('\\nAverage cost of items is:')\n",
    "print (tmp2.loc[:,'Price'].mean())\n",
    "print('\\nHighest priced items:')\n",
    "max_price = tmp2.loc[:,'Price'].max()\n",
    "\n",
    "for index, row in tmp2.iterrows():\n",
    "    if row['Price'] == max_price:\n",
    "        print(row['Item'])\n",
    "\n",
    "min_price = tmp2.loc[:,'Price'].min()\n",
    "print('\\nLowest priced items:')\n",
    "for i, r in tmp2.iterrows():\n",
    "    if r['Price'] == min_price:\n",
    "        print(r['Item'])\n"
   ]
  },
  {
   "cell_type": "code",
   "execution_count": null,
   "metadata": {},
   "outputs": [],
   "source": []
  }
 ],
 "metadata": {
  "kernelspec": {
   "display_name": "Python 3",
   "language": "python",
   "name": "python3"
  },
  "language_info": {
   "codemirror_mode": {
    "name": "ipython",
    "version": 3
   },
   "file_extension": ".py",
   "mimetype": "text/x-python",
   "name": "python",
   "nbconvert_exporter": "python",
   "pygments_lexer": "ipython3",
   "version": "3.7.1"
  }
 },
 "nbformat": 4,
 "nbformat_minor": 2
}
