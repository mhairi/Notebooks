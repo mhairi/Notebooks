{
 "cells": [
  {
   "cell_type": "code",
   "execution_count": 1,
   "metadata": {},
   "outputs": [],
   "source": [
    "import requests\n",
    "import csv\n",
    "from datetime import datetime\n",
    "from bs4 import BeautifulSoup\n",
    "import numpy as np\n",
    "\n",
    "# specify the url of the page a\n",
    "target_page = ['https://ntfc.clubstore.co.uk/nt-10687-black-leather-crest-bracelet',\n",
    "               'https://ntfc.clubstore.co.uk/nt-10149-ss-home-jsy-18-19-adult',\n",
    "               'https://ntfc.clubstore.co.uk/nt-10310-overhead-kick-gnome',\n",
    "               'https://ntfc.clubstore.co.uk/nt-10566-2019-club-calendar']\n",
    "data = []"
   ]
  },
  {
   "cell_type": "code",
   "execution_count": 2,
   "metadata": {},
   "outputs": [
    {
     "name": "stdout",
     "output_type": "stream",
     "text": [
      "BLACK LEATHER CREST BRACELET\n",
      "<div class=\"rrp-prices\">\n",
      "                RRP: <span>£35.00 </span> | SKU: <span class=\"sku-code\" itemprop=\"sku\"></span>\n",
      "</div>\n",
      "RRP: £35.00  | SKU:\n",
      "S/S HOME JSY 18-19 - ADULT\n",
      "<div class=\"rrp-prices\">\n",
      "                RRP: <span>£45.00 </span> | SKU: <span class=\"sku-code\" itemprop=\"sku\"></span>\n",
      "</div>\n",
      "RRP: £45.00  | SKU:\n",
      "OVERHEAD KICK GNOME\n",
      "<div class=\"rrp-prices\">\n",
      "                RRP: <span>£20.00 </span> | SKU: <span class=\"sku-code\" itemprop=\"sku\"></span>\n",
      "</div>\n",
      "RRP: £20.00  | SKU:\n",
      "2019 CLUB CALENDAR\n",
      "<div class=\"rrp-prices\">\n",
      "                RRP: <span>£9.99 </span> | SKU: <span class=\"sku-code\" itemprop=\"sku\"></span>\n",
      "</div>\n",
      "RRP: £9.99  | SKU:\n"
     ]
    }
   ],
   "source": [
    "# this code block will loop round all of the URLS' given in target_page\n",
    "rtot=0.0\n",
    "for pg in target_page:\n",
    "    # print(\"start\")\n",
    "    page = requests.get(pg)\n",
    "    \n",
    "    # parse the html using beautiful soup and store in variable `soup`\n",
    "    soup = BeautifulSoup(page.content, 'html.parser')\n",
    "    \n",
    "    #get name\n",
    "    name_box = soup.find('h2', attrs={'class': 'has-underline'})\n",
    "    name = name_box.text.strip()\n",
    "    print(name)\n",
    "    \n",
    "    # print(\"get price\")\n",
    "    #get price\n",
    "    price_box = soup.find('div', attrs={'class': \"rrp-prices\"})\n",
    "    print(price_box)\n",
    "    price = price_box.text.strip()\n",
    "    print(price)\n",
    "    price = price[6:11]\n",
    "    # print(price)\n",
    "    \n",
    "    #save the data\n",
    "    data.append((name,price))\n",
    "    # print(\"data append ok ?\" )"
   ]
  },
  {
   "cell_type": "code",
   "execution_count": 3,
   "metadata": {},
   "outputs": [],
   "source": [
    "# open up prices.csv, ready for analysing\n",
    "with open('price.csv', 'a') as csv_file:\n",
    "    writer = csv.writer(csv_file)\n",
    "    for name, price in data:\n",
    "        writer.writerow([name,price,datetime.now()])"
   ]
  },
  {
   "cell_type": "code",
   "execution_count": 7,
   "metadata": {},
   "outputs": [
    {
     "name": "stdout",
     "output_type": "stream",
     "text": [
      "Average Price =  27.4975\n",
      "Most Expensive item =  S/S HOME JSY 18-19 - ADULT\n",
      "Cheapest item =  2019 CLUB CALENDAR\n"
     ]
    }
   ],
   "source": [
    "# Summary Statistics...\n",
    "r_tot = 0\n",
    "max_p = 0\n",
    "min_p = 999999999999\n",
    "max_item = \"\"\n",
    "min_item = \"\"\n",
    "for i in range(0,len(data)):\n",
    "    # print(data[i][1])\n",
    "    r_tot = r_tot + float(data[i][1])\n",
    "    if float(data[i][1]) > max_p:\n",
    "        max_p = float(data[i][1])\n",
    "        max_item = data[i][0]\n",
    "    if float(data[i][1]) < min_p:\n",
    "        max_p = float(data[i][1])\n",
    "        min_item = data[i][0]\n",
    "avg = r_tot / float(len(data))\n",
    "print(\"Average Price = \" , avg)\n",
    "print(\"Most Expensive item = \" , max_item)\n",
    "print(\"Cheapest item = \" , min_item)"
   ]
  },
  {
   "cell_type": "code",
   "execution_count": null,
   "metadata": {},
   "outputs": [],
   "source": []
  }
 ],
 "metadata": {
  "kernelspec": {
   "display_name": "Python 3",
   "language": "python",
   "name": "python3"
  },
  "language_info": {
   "codemirror_mode": {
    "name": "ipython",
    "version": 3
   },
   "file_extension": ".py",
   "mimetype": "text/x-python",
   "name": "python",
   "nbconvert_exporter": "python",
   "pygments_lexer": "ipython3",
   "version": "3.6.5"
  },
  "toc": {
   "base_numbering": 1,
   "nav_menu": {},
   "number_sections": true,
   "sideBar": true,
   "skip_h1_title": false,
   "title_cell": "Table of Contents",
   "title_sidebar": "Contents",
   "toc_cell": false,
   "toc_position": {},
   "toc_section_display": true,
   "toc_window_display": false
  }
 },
 "nbformat": 4,
 "nbformat_minor": 2
}
