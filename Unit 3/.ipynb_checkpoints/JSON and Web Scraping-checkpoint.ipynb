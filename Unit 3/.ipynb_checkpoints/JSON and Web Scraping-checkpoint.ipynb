{
 "cells": [
  {
   "cell_type": "markdown",
   "metadata": {},
   "source": [
    "# JSON"
   ]
  },
  {
   "cell_type": "markdown",
   "metadata": {},
   "source": [
    "## Wrangling JSON data with Python"
   ]
  },
  {
   "cell_type": "markdown",
   "metadata": {},
   "source": [
    "One way of creating a JSON object in Python is to write a JSON object in a string:"
   ]
  },
  {
   "cell_type": "code",
   "execution_count": 11,
   "metadata": {},
   "outputs": [],
   "source": [
    "json_string = '{\"Name\": \"Dimitra\",\"Surname\": \"Gkatzia\", \"places_lived\": [\"Greece\", \"UK\"],\"modules_taught\": [{\"name\":\"Data Wrangling\", \"level\":\"MSc\"},{\"name\": \"Introduction to Human Computer Interaction\", \"level\":\"UG\"}]}'"
   ]
  },
  {
   "cell_type": "code",
   "execution_count": 12,
   "metadata": {},
   "outputs": [
    {
     "data": {
      "text/plain": [
       "str"
      ]
     },
     "execution_count": 12,
     "metadata": {},
     "output_type": "execute_result"
    }
   ],
   "source": [
    "type(json_string)"
   ]
  },
  {
   "cell_type": "markdown",
   "metadata": {},
   "source": [
    "You might have noticed that arrays in look a lot like Python lists, and objects look like Python dictonaries. Python makes it easy to convert a JSON string into a Python object that's a mixture of arrays and dictionaries. Now you can work with using everything you learnt about slicing in unit 1. \n",
    "\n",
    "\"json_string\" is just a string. We can convert it to a dictionary using the following"
   ]
  },
  {
   "cell_type": "code",
   "execution_count": 6,
   "metadata": {},
   "outputs": [],
   "source": [
    "import json\n",
    "python_string = json.loads(json_string)"
   ]
  },
  {
   "cell_type": "code",
   "execution_count": 10,
   "metadata": {},
   "outputs": [
    {
     "data": {
      "text/plain": [
       "dict"
      ]
     },
     "execution_count": 10,
     "metadata": {},
     "output_type": "execute_result"
    }
   ],
   "source": [
    "type(python_string)"
   ]
  },
  {
   "cell_type": "markdown",
   "metadata": {},
   "source": [
    "If your JSON is in the right shape we can convert it into a data-frame."
   ]
  },
  {
   "cell_type": "code",
   "execution_count": 16,
   "metadata": {},
   "outputs": [
    {
     "data": {
      "text/html": [
       "<div>\n",
       "<style scoped>\n",
       "    .dataframe tbody tr th:only-of-type {\n",
       "        vertical-align: middle;\n",
       "    }\n",
       "\n",
       "    .dataframe tbody tr th {\n",
       "        vertical-align: top;\n",
       "    }\n",
       "\n",
       "    .dataframe thead th {\n",
       "        text-align: right;\n",
       "    }\n",
       "</style>\n",
       "<table border=\"1\" class=\"dataframe\">\n",
       "  <thead>\n",
       "    <tr style=\"text-align: right;\">\n",
       "      <th></th>\n",
       "      <th>name</th>\n",
       "      <th>level</th>\n",
       "    </tr>\n",
       "  </thead>\n",
       "  <tbody>\n",
       "    <tr>\n",
       "      <th>0</th>\n",
       "      <td>Data Wrangling</td>\n",
       "      <td>MSc</td>\n",
       "    </tr>\n",
       "    <tr>\n",
       "      <th>1</th>\n",
       "      <td>Introduction to Human Computer Interaction</td>\n",
       "      <td>UG</td>\n",
       "    </tr>\n",
       "  </tbody>\n",
       "</table>\n",
       "</div>"
      ],
      "text/plain": [
       "                                         name level\n",
       "0                              Data Wrangling   MSc\n",
       "1  Introduction to Human Computer Interaction    UG"
      ]
     },
     "execution_count": 16,
     "metadata": {},
     "output_type": "execute_result"
    }
   ],
   "source": [
    "import pandas\n",
    "modules_taught = pandas.DataFrame(python_string['modules_taught'], columns=['name','level'])\n",
    "modules_taught"
   ]
  },
  {
   "cell_type": "markdown",
   "metadata": {},
   "source": [
    "We can go backwards and convert a dictionary or an array into JSON as follows:"
   ]
  },
  {
   "cell_type": "code",
   "execution_count": 14,
   "metadata": {},
   "outputs": [
    {
     "data": {
      "text/plain": [
       "'{\"Name\": \"Dimitra\", \"Surname\": \"Gkatzia\", \"places_lived\": [\"Greece\", \"UK\"], \"modules_taught\": [{\"name\": \"Data Wrangling\", \"level\": \"MSc\"}, {\"name\": \"Introduction to Human Computer Interaction\", \"level\": \"UG\"}]}'"
      ]
     },
     "execution_count": 14,
     "metadata": {},
     "output_type": "execute_result"
    }
   ],
   "source": [
    "asjson = json.dumps(python_string)\n",
    "asjson"
   ]
  },
  {
   "cell_type": "code",
   "execution_count": 15,
   "metadata": {},
   "outputs": [
    {
     "data": {
      "text/plain": [
       "str"
      ]
     },
     "execution_count": 15,
     "metadata": {},
     "output_type": "execute_result"
    }
   ],
   "source": [
    "type(asjson)"
   ]
  },
  {
   "cell_type": "markdown",
   "metadata": {},
   "source": [
    "### I/O with JSON\n",
    "It is more probable that you'll need to read a JSON file rather than creating a JSON object from your program. In order to read a JSON file: "
   ]
  },
  {
   "cell_type": "code",
   "execution_count": 20,
   "metadata": {},
   "outputs": [],
   "source": [
    " with open('json_file.json') as data_file:\n",
    "    data = json.load(data_file)"
   ]
  },
  {
   "cell_type": "markdown",
   "metadata": {},
   "source": [
    "When working with JSON there is a useful library called pprint, which prints out JSON objects in Python nicely:"
   ]
  },
  {
   "cell_type": "code",
   "execution_count": 21,
   "metadata": {},
   "outputs": [
    {
     "name": "stdout",
     "output_type": "stream",
     "text": [
      "{'colors': [{'category': 'hue',\n",
      "             'code': {'hex': '#000', 'rgba': [255, 255, 255, 1]},\n",
      "             'color': 'black',\n",
      "             'type': 'primary'},\n",
      "            {'category': 'value',\n",
      "             'code': {'hex': '#FFF', 'rgba': [0, 0, 0, 1]},\n",
      "             'color': 'white'},\n",
      "            {'category': 'hue',\n",
      "             'code': {'hex': '#FF0', 'rgba': [255, 0, 0, 1]},\n",
      "             'color': 'red',\n",
      "             'type': 'primary'},\n",
      "            {'category': 'hue',\n",
      "             'code': {'hex': '#00F', 'rgba': [0, 0, 255, 1]},\n",
      "             'color': 'blue',\n",
      "             'type': 'primary'},\n",
      "            {'category': 'hue',\n",
      "             'code': {'hex': '#FF0', 'rgba': [255, 255, 0, 1]},\n",
      "             'color': 'yellow',\n",
      "             'type': 'primary'},\n",
      "            {'category': 'hue',\n",
      "             'code': {'hex': '#0F0', 'rgba': [0, 255, 0, 1]},\n",
      "             'color': 'green',\n",
      "             'type': 'secondary'}]}\n"
     ]
    }
   ],
   "source": [
    "from pprint import pprint\n",
    "pprint(data)"
   ]
  },
  {
   "cell_type": "markdown",
   "metadata": {},
   "source": [
    "And then you can simply turn the Python data structure into a JSON string with the way we saw earlier: "
   ]
  },
  {
   "cell_type": "code",
   "execution_count": 23,
   "metadata": {},
   "outputs": [
    {
     "data": {
      "text/plain": [
       "'{\"colors\": [{\"color\": \"black\", \"category\": \"hue\", \"type\": \"primary\", \"code\": {\"rgba\": [255, 255, 255, 1], \"hex\": \"#000\"}}, {\"color\": \"white\", \"category\": \"value\", \"code\": {\"rgba\": [0, 0, 0, 1], \"hex\": \"#FFF\"}}, {\"color\": \"red\", \"category\": \"hue\", \"type\": \"primary\", \"code\": {\"rgba\": [255, 0, 0, 1], \"hex\": \"#FF0\"}}, {\"color\": \"blue\", \"category\": \"hue\", \"type\": \"primary\", \"code\": {\"rgba\": [0, 0, 255, 1], \"hex\": \"#00F\"}}, {\"color\": \"yellow\", \"category\": \"hue\", \"type\": \"primary\", \"code\": {\"rgba\": [255, 255, 0, 1], \"hex\": \"#FF0\"}}, {\"color\": \"green\", \"category\": \"hue\", \"type\": \"secondary\", \"code\": {\"rgba\": [0, 255, 0, 1], \"hex\": \"#0F0\"}}]}'"
      ]
     },
     "execution_count": 23,
     "metadata": {},
     "output_type": "execute_result"
    }
   ],
   "source": [
    "json.dumps(data)"
   ]
  },
  {
   "cell_type": "markdown",
   "metadata": {},
   "source": [
    "Finally, you can simply store a JSON object to a file:"
   ]
  },
  {
   "cell_type": "code",
   "execution_count": 24,
   "metadata": {},
   "outputs": [],
   "source": [
    "with open('json_file2.json', 'w') as outfile:\n",
    "    json.dump(data, outfile)"
   ]
  },
  {
   "cell_type": "markdown",
   "metadata": {},
   "source": [
    "# Web Scraping"
   ]
  },
  {
   "cell_type": "markdown",
   "metadata": {},
   "source": [
    "## Example: Basic Web Scraping"
   ]
  },
  {
   "cell_type": "code",
   "execution_count": 37,
   "metadata": {},
   "outputs": [
    {
     "data": {
      "text/plain": [
       "'£7.00'"
      ]
     },
     "execution_count": 37,
     "metadata": {},
     "output_type": "execute_result"
    }
   ],
   "source": [
    "from bs4 import BeautifulSoup\n",
    "import requests\n",
    "\n",
    "#specify the url where the product is\n",
    "url = 'http://www.newlook.com/uk/womens/clothing/dresses/black-floral-print-soft-touch-dress/p/563723709?comp=Browse'\n",
    "\n",
    "#query the website and return the html \n",
    "page = requests.get(url)\n",
    "\n",
    "#parse the html using the Beautiful Soup\n",
    "soup = BeautifulSoup(page.content, 'html.parser')\n",
    "\n",
    "#get the price\n",
    "price_box = soup.find('span', attrs={'class':'price'})\n",
    "price = price_box.text.strip()\n",
    "price"
   ]
  },
  {
   "cell_type": "code",
   "execution_count": 38,
   "metadata": {},
   "outputs": [
    {
     "data": {
      "text/plain": [
       "'Black Floral Print Soft Touch Skater Dress'"
      ]
     },
     "execution_count": 38,
     "metadata": {},
     "output_type": "execute_result"
    }
   ],
   "source": [
    "# Get the name\n",
    "name_box = soup.find('h1', attrs={'class':'product-description__name'})\n",
    "name = name_box.text.strip()\n",
    "name"
   ]
  },
  {
   "cell_type": "markdown",
   "metadata": {},
   "source": [
    "## Example: Saving a CSV file"
   ]
  },
  {
   "cell_type": "code",
   "execution_count": 43,
   "metadata": {},
   "outputs": [],
   "source": [
    "import requests\n",
    "import csv\n",
    "from bs4 import BeautifulSoup\n",
    "from datetime import datetime\n",
    "\n",
    "# specify the url of the page \n",
    "target_page = 'http://www.newlook.com/uk/womens/clothing/dresses/black-floral-print-soft-touch-dress/p/563723709?comp=Browse'\n",
    "\n",
    "page = requests.get(target_page)\n",
    "\n",
    "# parse the html using beautiful soup and store in variable `soup`\n",
    "soup = BeautifulSoup(page.content, 'html.parser')\n",
    "\n",
    "#get name\n",
    "name_box = soup.find('h1', attrs={'class': 'product-description__name'})\n",
    "name = name_box.text.strip()\n",
    "\n",
    "#get price\n",
    "price_box = soup.find('span', attrs={'class':'price'})\n",
    "price = price_box.text.strip()\n",
    "\n",
    "with open('price.csv', 'a') as csv_file:\n",
    "  writer = csv.writer(csv_file)\n",
    "  writer.writerow([name, price, datetime.now()])"
   ]
  },
  {
   "cell_type": "markdown",
   "metadata": {},
   "source": [
    "## Example: Looping"
   ]
  },
  {
   "cell_type": "code",
   "execution_count": 47,
   "metadata": {},
   "outputs": [],
   "source": [
    "import requests\n",
    "import csv\n",
    "from datetime import datetime\n",
    "from bs4 import BeautifulSoup\n",
    "\n",
    "# specify the url of the page a\n",
    "target_page = ['http://www.newlook.com/uk/womens/clothing/dresses/black-floral-print-soft-touch-dress/p/563723709?comp=Browse', \n",
    "'http://www.newlook.com/uk/mens/clothing/jackets-coats/navy-puffer-jacket/p/563683041?comp=Browse']\n",
    "\n",
    "#Then we change the data extraction code into a for loop, which will process the URLs one by one and store all \n",
    "#the data into a variable data in tuples.\n",
    "data = []\n",
    "for pg in target_page:\n",
    "    page = requests.get(pg)\n",
    "\n",
    "    # parse the html using beautiful soup and store in variable `soup`\n",
    "    soup = BeautifulSoup(page.content, 'html.parser')\n",
    "\n",
    "    #get name\n",
    "    name_box = soup.find('h1', attrs={'class': 'product-description__name'})\n",
    "    name = name_box.text.strip()\n",
    "\n",
    "    #get price\n",
    "    price_box = soup.find('span', attrs={'class':'price'})\n",
    "    price = price_box.text.strip()\n",
    "\n",
    "    #save the data\n",
    "    data.append((name,price))\n",
    "\n",
    "with open('price.csv', 'a') as csv_file:\n",
    "    writer = csv.writer(csv_file)\n",
    "    for name, price in data:\n",
    "        writer.writerow([name,price,datetime.now()])"
   ]
  }
 ],
 "metadata": {
  "kernelspec": {
   "display_name": "Python 3",
   "language": "python",
   "name": "python3"
  },
  "language_info": {
   "codemirror_mode": {
    "name": "ipython",
    "version": 3
   },
   "file_extension": ".py",
   "mimetype": "text/x-python",
   "name": "python",
   "nbconvert_exporter": "python",
   "pygments_lexer": "ipython3",
   "version": "3.6.8"
  }
 },
 "nbformat": 4,
 "nbformat_minor": 2
}
