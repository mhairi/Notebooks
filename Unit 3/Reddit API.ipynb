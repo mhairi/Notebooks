{
 "cells": [
  {
   "cell_type": "code",
   "execution_count": 14,
   "metadata": {},
   "outputs": [],
   "source": [
    "import praw\n",
    "\n",
    "reddit = praw.Reddit(client_id='', \\\n",
    "                     client_secret='', \\\n",
    "                     user_agent='')"
   ]
  },
  {
   "cell_type": "code",
   "execution_count": 19,
   "metadata": {},
   "outputs": [
    {
     "name": "stdout",
     "output_type": "stream",
     "text": [
      "True\n"
     ]
    }
   ],
   "source": [
    "print(reddit.read_only)"
   ]
  },
  {
   "cell_type": "code",
   "execution_count": 39,
   "metadata": {},
   "outputs": [
    {
     "name": "stdout",
     "output_type": "stream",
     "text": [
      "Cause of Death - Reality vs. Google vs. Media [OC]\n",
      "101459\n",
      "https://i.imgur.com/GtIzEok.gif\n",
      "Gaze and foot placement when walking over rough terrain (article link in comments) [OC]\n",
      "99617\n",
      "https://v.redd.it/h0f0m4v5nor01\n",
      "11 different brands of AA batteries, tested in identical flashlights. [OC]\n",
      "84419\n",
      "https://i.redd.it/aiuv4unoedm01.jpg\n",
      "The City is Alive: The Population of Manhattan, Hour-by-Hour [OC]\n",
      "76721\n",
      "https://i.redd.it/gbc2fc9l5ow01.gif\n",
      "Paths of 800 unmanned bicycles being pushed until they fall over\n",
      "73270\n",
      "https://i.redd.it/wzux1azjcob01.jpg\n",
      "Pornhub traffic in Hawaii during the \"missile alert\"\n",
      "68848\n",
      "https://www.pornhub.com/insights/hawaii-alert\n",
      "Berlin Subway Map compared to it's real geography [OC]\n",
      "67391\n",
      "https://i.redd.it/cfq4b4zx1oxy.gif\n",
      "People killed in terrorist attacks in 2017: Europe (Blue) vs Africa (Red) [OC]\n",
      "65359\n",
      "https://i.redd.it/cri4u68xnxtz.png\n",
      "Optimal routes from the geographic center of the U.S. to all counties [OC]\n",
      "65000\n",
      "https://i.redd.it/l1olivgg5n901.png\n",
      "Heatmap of numbers found at the end of Reddit usernames [OC]\n",
      "64398\n",
      "https://i.redd.it/h0t99e0iztb01.png\n"
     ]
    }
   ],
   "source": [
    "posts =  reddit.subreddit('dataisbeautiful').top(limit=10)\n",
    "\n",
    "for submission in posts:\n",
    "    print(submission.title)  \n",
    "    print(submission.score)  \n",
    "    print(submission.url)    "
   ]
  },
  {
   "cell_type": "code",
   "execution_count": 35,
   "metadata": {},
   "outputs": [
    {
     "name": "stdout",
     "output_type": "stream",
     "text": [
      "Just spent 2 hours to automate joining csv files saving hundreds of hours a year\n",
      "685\n",
      "https://www.reddit.com/r/learnpython/comments/a085dx/just_spent_2_hours_to_automate_joining_csv_files/\n",
      "90% Python in 90 minutes\n",
      "600\n",
      "https://www.reddit.com/r/learnpython/comments/661o5a/90_python_in_90_minutes/\n",
      "Python 201 Book is Free for 48 hours\n",
      "600\n",
      "https://www.reddit.com/r/learnpython/comments/5814lw/python_201_book_is_free_for_48_hours/\n",
      "I wrote a book on Python Regular Expressions, it is FREE through this weekend\n",
      "598\n",
      "https://www.reddit.com/r/learnpython/comments/aevgbi/i_wrote_a_book_on_python_regular_expressions_it/\n",
      "Learning Python and managed to save my company thousands per year\n",
      "584\n",
      "https://www.reddit.com/r/learnpython/comments/a0jqpr/learning_python_and_managed_to_save_my_company/\n",
      "Python 101 Book FREE for 48 hours!\n",
      "582\n",
      "https://www.reddit.com/r/learnpython/comments/5bmaz0/python_101_book_free_for_48_hours/\n",
      "2000+ free programming books on github\n",
      "559\n",
      "https://www.reddit.com/r/learnpython/comments/8ycc5j/2000_free_programming_books_on_github/\n",
      "When I'm coding, I don't feel stupid anymore\n",
      "547\n",
      "https://www.reddit.com/r/learnpython/comments/989qx7/when_im_coding_i_dont_feel_stupid_anymore/\n",
      "Beginner's Python cheat sheets\n",
      "547\n",
      "https://www.reddit.com/r/learnpython/comments/4atn5f/beginners_python_cheat_sheets/\n",
      "PSA: If you have a library card, you probably have access to Lynda.com, which has tons of Python courses\n",
      "504\n",
      "https://www.reddit.com/r/learnpython/comments/6rrsdu/psa_if_you_have_a_library_card_you_probably_have/\n"
     ]
    }
   ],
   "source": [
    "for submission in reddit.subreddit('learnpython').top(limit=10):\n",
    "    print(submission.title)  \n",
    "    print(submission.score)  \n",
    "    print(submission.url) "
   ]
  },
  {
   "cell_type": "code",
   "execution_count": 36,
   "metadata": {},
   "outputs": [
    {
     "name": "stdout",
     "output_type": "stream",
     "text": [
      "Just spent 2 hours to automate joining csv files saving hundreds of hours a year\n",
      "685\n",
      "https://www.reddit.com/r/learnpython/comments/a085dx/just_spent_2_hours_to_automate_joining_csv_files/\n",
      "90% Python in 90 minutes\n",
      "604\n",
      "https://www.reddit.com/r/learnpython/comments/661o5a/90_python_in_90_minutes/\n",
      "Python 201 Book is Free for 48 hours\n",
      "594\n",
      "https://www.reddit.com/r/learnpython/comments/5814lw/python_201_book_is_free_for_48_hours/\n",
      "I wrote a book on Python Regular Expressions, it is FREE through this weekend\n",
      "593\n",
      "https://www.reddit.com/r/learnpython/comments/aevgbi/i_wrote_a_book_on_python_regular_expressions_it/\n",
      "Learning Python and managed to save my company thousands per year\n",
      "589\n",
      "https://www.reddit.com/r/learnpython/comments/a0jqpr/learning_python_and_managed_to_save_my_company/\n",
      "Python 101 Book FREE for 48 hours!\n",
      "581\n",
      "https://www.reddit.com/r/learnpython/comments/5bmaz0/python_101_book_free_for_48_hours/\n",
      "2000+ free programming books on github\n",
      "563\n",
      "https://www.reddit.com/r/learnpython/comments/8ycc5j/2000_free_programming_books_on_github/\n",
      "When I'm coding, I don't feel stupid anymore\n",
      "543\n",
      "https://www.reddit.com/r/learnpython/comments/989qx7/when_im_coding_i_dont_feel_stupid_anymore/\n",
      "Beginner's Python cheat sheets\n",
      "539\n",
      "https://www.reddit.com/r/learnpython/comments/4atn5f/beginners_python_cheat_sheets/\n",
      "PSA: If you have a library card, you probably have access to Lynda.com, which has tons of Python courses\n",
      "505\n",
      "https://www.reddit.com/r/learnpython/comments/6rrsdu/psa_if_you_have_a_library_card_you_probably_have/\n",
      "MIT's Introduction to Computer Science and Programming Using Python starts today.\n",
      "502\n",
      "https://www.reddit.com/r/learnpython/comments/6x3tjg/mits_introduction_to_computer_science_and/\n",
      "I am a self taught programmer developed my very own Jarvis, called Stephanie, an open source virtual assistant built to control and automate any task and so can you!\n",
      "478\n",
      "https://www.reddit.com/r/learnpython/comments/6ghxgg/i_am_a_self_taught_programmer_developed_my_very/\n",
      "6 Months of Python Grinding Pays Off (thanks to this sub)\n",
      "470\n",
      "https://www.reddit.com/r/learnpython/comments/78js5u/6_months_of_python_grinding_pays_off_thanks_to/\n",
      "My cousin asked me where I would go if I wanted to learn programming all over again. This was my response.\n",
      "472\n",
      "https://www.reddit.com/r/learnpython/comments/3p5z6o/my_cousin_asked_me_where_i_would_go_if_i_wanted/\n",
      "I created this free tool for learning Python and would love some feedback form /r/learnpython\n",
      "472\n",
      "https://www.reddit.com/r/learnpython/comments/8etktr/i_created_this_free_tool_for_learning_python_and/\n",
      "Beginner's Python cheat sheets - updated\n",
      "450\n",
      "https://www.reddit.com/r/learnpython/comments/4y06nq/beginners_python_cheat_sheets_updated/\n",
      "Where can I learn *actual* projects, not 'hello world'?\n",
      "442\n",
      "https://www.reddit.com/r/learnpython/comments/8fqt2i/where_can_i_learn_actual_projects_not_hello_world/\n",
      "Learning Python for Data Science: Deep learning (TensorFlow, Theano, Keras, Caffe), scikit-learn, Kaggle, big data (Spark, Hadoop MapReduce, HDFS), matplotlib, pandas, NumPy, SciPy, Python essentials, AWS, and various command lines.\n",
      "433\n",
      "https://www.reddit.com/r/learnpython/comments/60n6gh/learning_python_for_data_science_deep_learning/\n",
      "Learn algorithms and data structures (and prep for coding interviews) with interactive coding challenges in Python\n",
      "431\n",
      "https://www.reddit.com/r/learnpython/comments/63sg43/learn_algorithms_and_data_structures_and_prep_for/\n",
      "The Ultimate List of Python YouTube Channels – Real Python\n",
      "425\n",
      "https://www.reddit.com/r/learnpython/comments/8sr32u/the_ultimate_list_of_python_youtube_channels_real/\n"
     ]
    }
   ],
   "source": [
    "for submission in reddit.subreddit('learnpython').top(limit=20):\n",
    "    print(submission.title)  \n",
    "    print(submission.score)  \n",
    "    print(submission.url) "
   ]
  }
 ],
 "metadata": {
  "kernelspec": {
   "display_name": "Python 3",
   "language": "python",
   "name": "python3"
  },
  "language_info": {
   "codemirror_mode": {
    "name": "ipython",
    "version": 3
   },
   "file_extension": ".py",
   "mimetype": "text/x-python",
   "name": "python",
   "nbconvert_exporter": "python",
   "pygments_lexer": "ipython3",
   "version": "3.7.1"
  }
 },
 "nbformat": 4,
 "nbformat_minor": 2
}
