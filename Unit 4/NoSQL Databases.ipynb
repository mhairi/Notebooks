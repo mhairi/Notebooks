{
 "cells": [
  {
   "cell_type": "code",
   "execution_count": null,
   "metadata": {},
   "outputs": [],
   "source": [
    "from pymongo import MongoClient"
   ]
  },
  {
   "cell_type": "code",
   "execution_count": null,
   "metadata": {},
   "outputs": [],
   "source": [
    "client = MongoClient()\n",
    "db = client.test\n",
    "result = db.users.insert_one(  #bd.users will create a database \"users\" if one does not exist\n",
    "\t{\n",
    "\t\t\"name\": \"Dimitra\",\n",
    "\t\t\"occupation\": \"Lecturer\",\n",
    "\t\t\"location\": {\n",
    "\t\t\t\"street\": \"Colinton Road\",\n",
    "\t\t\t\"city\": \"Edinburgh\"\n",
    "\t\t},\n",
    "\t\t\"age\": 3\n",
    "\t\t\n",
    "\t}\n",
    ")"
   ]
  },
  {
   "cell_type": "code",
   "execution_count": null,
   "metadata": {},
   "outputs": [],
   "source": [
    "result.inserted_id"
   ]
  },
  {
   "cell_type": "code",
   "execution_count": null,
   "metadata": {},
   "outputs": [],
   "source": [
    "cursor = db.users.find()\n",
    "for document in cursor:\n",
    "  print(document)"
   ]
  },
  {
   "cell_type": "code",
   "execution_count": null,
   "metadata": {},
   "outputs": [],
   "source": [
    "cursor = db.users.find( {'name': 'Dimitra'}) \n",
    "cursor[0]"
   ]
  },
  {
   "cell_type": "code",
   "execution_count": null,
   "metadata": {},
   "outputs": [],
   "source": [
    "cursor = db.users.find( {'age': {\"$gt\": 18} } ) "
   ]
  },
  {
   "cell_type": "code",
   "execution_count": null,
   "metadata": {},
   "outputs": [],
   "source": [
    "list(cursor)"
   ]
  },
  {
   "cell_type": "code",
   "execution_count": null,
   "metadata": {},
   "outputs": [],
   "source": [
    "cursor = db.users.find( {'age': {'$in': [23,25]} } ) \n",
    "list(cursor)"
   ]
  },
  {
   "cell_type": "code",
   "execution_count": null,
   "metadata": {},
   "outputs": [],
   "source": [
    "cursor = db.users.find( {'location': {'street': 'Colinton Road', 'city': 'Edinburgh'}} )\n",
    "list(cursor)"
   ]
  },
  {
   "cell_type": "code",
   "execution_count": null,
   "metadata": {},
   "outputs": [],
   "source": [
    "cursor = db.users.find( {\"location.city\": 'Edinburgh'} )"
   ]
  },
  {
   "cell_type": "code",
   "execution_count": null,
   "metadata": {},
   "outputs": [],
   "source": [
    "cursor = db.users.find({\"name\": \"Dimitra\", \"location.city\": \"Edinburgh\"})"
   ]
  },
  {
   "cell_type": "code",
   "execution_count": null,
   "metadata": {},
   "outputs": [],
   "source": [
    "cursor = db.users.find({\"$or\": [{'location.city' : 'Edinburgh'}, {'name' : 'Dimitra'}]})"
   ]
  },
  {
   "cell_type": "code",
   "execution_count": null,
   "metadata": {},
   "outputs": [],
   "source": [
    "db.users.update_one(\n",
    "    {'name': 'Dimitra'},\n",
    "    {\n",
    "        '$set': {\n",
    "\n",
    "            'occupation': 'Researcher'\n",
    "        }\n",
    "    }\n",
    ")"
   ]
  },
  {
   "cell_type": "code",
   "execution_count": null,
   "metadata": {},
   "outputs": [],
   "source": [
    "cursor = db.movies.aggregate(\n",
    "    [\n",
    "        {\"$group\": {\"_id\": \"$genre\", \"count\": {\"$sum\": 1}}}\n",
    "    ]\n",
    ")"
   ]
  },
  {
   "cell_type": "code",
   "execution_count": null,
   "metadata": {},
   "outputs": [],
   "source": [
    "cursor = db.users.aggregate( \n",
    "\t[\n",
    "\t\t{\"$group\":\n",
    "\t\t\t {\n",
    "\t\t\t \t\"_id\": \"$location.city\", \n",
    "\t\t\t \t\"count\": {\"$sum\": 1}\n",
    "\t\t\t }\n",
    "\t\t} \n",
    "\t]\n",
    ")\n",
    "for document in cursor:\n",
    "\tprint(document)"
   ]
  },
  {
   "cell_type": "code",
   "execution_count": null,
   "metadata": {},
   "outputs": [],
   "source": [
    "db.users.delete_many({\"occupation\": \"Researcher\"})"
   ]
  },
  {
   "cell_type": "code",
   "execution_count": null,
   "metadata": {},
   "outputs": [],
   "source": [
    "#db.users.drop()"
   ]
  }
 ],
 "metadata": {
  "kernelspec": {
   "display_name": "Python 3",
   "language": "python",
   "name": "python3"
  },
  "language_info": {
   "codemirror_mode": {
    "name": "ipython",
    "version": 3
   },
   "file_extension": ".py",
   "mimetype": "text/x-python",
   "name": "python",
   "nbconvert_exporter": "python",
   "pygments_lexer": "ipython3",
   "version": "3.7.1"
  }
 },
 "nbformat": 4,
 "nbformat_minor": 2
}
